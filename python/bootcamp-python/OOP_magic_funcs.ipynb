{
 "cells": [
  {
   "cell_type": "markdown",
   "metadata": {},
   "source": [
    "The purpose of this notebook is to introduce OOP, and magic functions in Python. B\n",
    "\n",
    "#### Contents\n",
    "* Object references are passed by value.\n",
    "* Introduction to OOP\n",
    "* Some usecases of OOP\n",
    "* Python magic functions e.g., `__enter__`, `__exit__`\n",
    "* Operator overloadding e.g., + with objects.\n",
    "* Measuring runtime. A class to measure runtime."
   ]
  },
  {
   "cell_type": "markdown",
   "metadata": {},
   "source": [
    "## Passing objects to functions"
   ]
  },
  {
   "cell_type": "markdown",
   "metadata": {},
   "source": [
    "Consider the following two cases. Explain what is going on."
   ]
  },
  {
   "cell_type": "markdown",
   "metadata": {},
   "source": [
    "### case 1"
   ]
  },
  {
   "cell_type": "code",
   "execution_count": 7,
   "metadata": {
    "collapsed": false,
    "scrolled": true
   },
   "outputs": [
    {
     "name": "stdout",
     "output_type": "stream",
     "text": [
      "[1, 3, 10]\n"
     ]
    }
   ],
   "source": [
    "def add_more(x):\n",
    "    x.append(10)\n",
    "\n",
    "#----------------    \n",
    "L = [1, 3]\n",
    "add_more(L)\n",
    "print L"
   ]
  },
  {
   "cell_type": "markdown",
   "metadata": {},
   "source": [
    "### case 2"
   ]
  },
  {
   "cell_type": "code",
   "execution_count": 8,
   "metadata": {
    "collapsed": false
   },
   "outputs": [
    {
     "name": "stdout",
     "output_type": "stream",
     "text": [
      "2\n"
     ]
    }
   ],
   "source": [
    "def inc(x):\n",
    "    x = x + 1\n",
    "\n",
    "#-----------------\n",
    "y = 2\n",
    "inc(y)\n",
    "print y"
   ]
  },
  {
   "cell_type": "markdown",
   "metadata": {},
   "source": [
    "In both cases, we modify two variables in place in the function. But, the effect of the modification persists to the caller only in case 1. Why? This has to do with the way **objects** are passed, the way the **reference** holding the object is used. The following code does more or less the same thing as in case 1."
   ]
  },
  {
   "cell_type": "code",
   "execution_count": 9,
   "metadata": {
    "collapsed": false
   },
   "outputs": [
    {
     "name": "stdout",
     "output_type": "stream",
     "text": [
      "[10, 2]\n"
     ]
    }
   ],
   "source": [
    "a = [1, 2]\n",
    "b = a \n",
    "b[0] = 10\n",
    "print a"
   ]
  },
  {
   "cell_type": "markdown",
   "metadata": {},
   "source": [
    "There are two things we will need to distinguish: references, and objects. When we write \n",
    "        \n",
    "        a = [1, 2]\n",
    "        \n",
    "`a` is a reference. `[1, 2]` is an object. Think of `a` as a hand, and `[1, 2]` as a luggage.\n",
    "\n",
    "* By `a = [1,2]`, we \"ask the hand `a` to hold the luggage `[1, 2]`.\"\n",
    "* By `b = a`, we \"ask `b` to hold whatever `a` is holding.\" In this case, `a` is holding the luggage `[1, 2]`. So, `b` then holds the **exact** same luggage `[1, 2]`.\n",
    "* Basically, the same luggage whose content is `[1, 2]` is held by both hands `a` and `b`.\n",
    "* By `b[0] = 10`, we change the content of the luggage.\n",
    "* But, `a` is holding the same luggage. So, accessing the luggage from the hand `a` will also see the change.\n",
    "\n",
    "In the same way, in case 1, `x` in the function is just another hand holding the luggage `[1, 3]`. That is why."
   ]
  },
  {
   "cell_type": "markdown",
   "metadata": {},
   "source": [
    "### What about case 2?"
   ]
  },
  {
   "cell_type": "markdown",
   "metadata": {},
   "source": [
    "* In the function, `x` holds the luggage `2` which is also held by `y` outside the function.\n",
    "* Then in the function, `x = x + 1` which is the same as `x = 3`. Here, we \"ask the hand `x` to hold a new luggage `3`.\"\n",
    "* But this has nothing to do with the hand `y` which is still holding `2`."
   ]
  },
  {
   "cell_type": "markdown",
   "metadata": {},
   "source": [
    "### I want to pass [1, 3]. But I don't want my luggage to be modified.\n",
    "\n",
    "Then, you will need to make a new luggage with the exact same content. "
   ]
  },
  {
   "cell_type": "code",
   "execution_count": 10,
   "metadata": {
    "collapsed": false
   },
   "outputs": [
    {
     "name": "stdout",
     "output_type": "stream",
     "text": [
      "[1, 3]\n",
      "[1, 3]\n"
     ]
    }
   ],
   "source": [
    "L = [1, 3]\n",
    "# A new luggage. ..[:] means \"copy\".\n",
    "L2 = L[:]\n",
    "\n",
    "print L\n",
    "print L2"
   ]
  },
  {
   "cell_type": "markdown",
   "metadata": {},
   "source": [
    "Basically, up to this point, `L`, `L2` are hands each holding its own luggage. But the luggages happen to look the same."
   ]
  },
  {
   "cell_type": "code",
   "execution_count": 11,
   "metadata": {
    "collapsed": false
   },
   "outputs": [
    {
     "name": "stdout",
     "output_type": "stream",
     "text": [
      "[1, 3, 10]\n",
      "[1, 3]\n"
     ]
    }
   ],
   "source": [
    "add_more(L)\n",
    "print L\n",
    "print L2"
   ]
  },
  {
   "cell_type": "code",
   "execution_count": null,
   "metadata": {
    "collapsed": true
   },
   "outputs": [],
   "source": []
  },
  {
   "cell_type": "markdown",
   "metadata": {},
   "source": [
    "## What is OOP\n",
    "\n",
    "A programming paradigm where code is organized around objects, rather than \"actions\" (procedure, functions).\n",
    "\n",
    "* In Matlab, a program is broken down into smaller functions. Data are organized into `struct`, `array` or `cell`s. There is no semantic associated with a piece of data structure. For example, \n",
    "\n",
    "        s = struct()\n",
    "        s.id = 1;\n",
    "        s.connections = [2,4,8];\n",
    "        s.threshold = -55;\n",
    "        s.resting_v = -70\n",
    "        \n",
    "    There is nothing saying that `s` represents a neuron. There is no information describing which functions can be used with this piece of data structure.\n",
    "\n",
    "* In a language with OOP, code is organized around objects. Think of an object as a `struct` with a set of functions that can be used on it. Object = struct + functions. These functions are called *methods*.\n",
    "\n",
    "* An object always has a type. For example, the above `s` is a `Neuron`. So the **class** of `s` is `Neuron`. This `s` is just a particular realization (or object) from the class `Neuron`. We can create other objects belonging to the same class, each having its own `attributes` (e.g., `threshold`, `resting_v`). As an analogy, we are humans. Each of use is a realization from the class `Human`, carrying different attributes e.g., heights, skin colour.\n",
    "\n",
    "* All objects in the same class can perform the same kinds of actions, but may yield different results. For instance, all birds can fly but may fly in a different way. All neurons can fire, but perhaps in a different firing patterns, depending on its attributes. *This is to say that a class predefines methods that objects (of that class) can use*."
   ]
  },
  {
   "cell_type": "markdown",
   "metadata": {},
   "source": [
    "## Geometric shapes in 2D\n",
    "\n",
    "Say we want to make a program to process geometric shapes. Let's create a `Circle` class"
   ]
  },
  {
   "cell_type": "code",
   "execution_count": 12,
   "metadata": {
    "collapsed": false
   },
   "outputs": [],
   "source": [
    "import math\n",
    "\n",
    "# This '(object)' will be explained later.\n",
    "class Circle(object):\n",
    "    \n",
    "    # self is like a struct in Matlab. It holds all the attributes.\n",
    "    # This __init__ is called a  \"constructor\" because it is used to construct an object.\n",
    "    # Here we are saying that to construct a circle, we need its center (x,y) and a radius.\n",
    "    def __init__(self, x, y, radius=1):\n",
    "        # store the attributes\n",
    "        self.x = x\n",
    "        self.y = y\n",
    "        self.radius = radius\n",
    "    \n",
    "    # area is a method that works on only Circle objects.\n",
    "    def area(self):\n",
    "        \"\"\"Compute the area of this circle.\"\"\"\n",
    "        a = math.pi*self.radius**2\n",
    "        return a\n",
    "        \n",
    "    "
   ]
  },
  {
   "cell_type": "code",
   "execution_count": 13,
   "metadata": {
    "collapsed": false
   },
   "outputs": [
    {
     "name": "stdout",
     "output_type": "stream",
     "text": [
      "12.5663706144\n",
      "3.14159265359\n",
      "1\n"
     ]
    }
   ],
   "source": [
    "# Let's make a Circle object \n",
    "\n",
    "# Circle(..) here will call __init__\n",
    "c0 = Circle(0, 0, 2)\n",
    "# radius = 1 by default\n",
    "c1 = Circle(1, 1)\n",
    "\n",
    "print c0.area()\n",
    "print c1.area()\n",
    "\n",
    "# Can access an attribute as well\n",
    "print c1.y"
   ]
  },
  {
   "cell_type": "code",
   "execution_count": 14,
   "metadata": {
    "collapsed": false
   },
   "outputs": [
    {
     "data": {
      "text/plain": [
       "True"
      ]
     },
     "execution_count": 14,
     "metadata": {},
     "output_type": "execute_result"
    }
   ],
   "source": [
    "# c0 is a Circle\n",
    "isinstance(c0, Circle)"
   ]
  },
  {
   "cell_type": "code",
   "execution_count": 15,
   "metadata": {
    "collapsed": false
   },
   "outputs": [
    {
     "data": {
      "text/plain": [
       "False"
      ]
     },
     "execution_count": 15,
     "metadata": {},
     "output_type": "execute_result"
    }
   ],
   "source": [
    "isinstance('some string', Circle)"
   ]
  },
  {
   "cell_type": "markdown",
   "metadata": {},
   "source": [
    "## Inheritance"
   ]
  },
  {
   "cell_type": "markdown",
   "metadata": {},
   "source": [
    "Classes can be organized in hierarchy. For example, `Circle` is actually a type of `Shape`. So, we make `Shape` a **superclass** of `Circle`. The class `Circle` is then called a `subclass` of `Shape`.\n",
    "\n",
    "The main advantage of doing this is to share and enforce implementations of certains methods. As will be seen in the class `Square`."
   ]
  },
  {
   "cell_type": "code",
   "execution_count": 16,
   "metadata": {
    "collapsed": true
   },
   "outputs": [],
   "source": [
    "# Let's define a Shape\n",
    "class Shape(object):\n",
    "    # A Shape needs a coordinate\n",
    "    def __init__(self, x, y):\n",
    "        self.x = x\n",
    "        self.y = y\n",
    "    \n",
    "    def area(self):\n",
    "        # A class where instantiation is not intended is called an abstract class.\n",
    "        \"\"\"Subclasses will implement this.\"\"\"\n",
    "        raise NotImplementedError('The area of an abstract shape is not known.')"
   ]
  },
  {
   "cell_type": "code",
   "execution_count": 17,
   "metadata": {
    "collapsed": false
   },
   "outputs": [],
   "source": [
    "s0 = Shape(1, 2)\n",
    "# Error\n",
    "#s0.area()"
   ]
  },
  {
   "cell_type": "code",
   "execution_count": 18,
   "metadata": {
    "collapsed": true
   },
   "outputs": [],
   "source": [
    "# Let's make Circle a subclass of Shape.\n",
    "# Redefine Circle class\n",
    "class Circle(Shape):\n",
    "    def __init__(self, x, y, radius=1):\n",
    "        super(Circle, self).__init__(x, y)\n",
    "        self.radius = radius\n",
    "    \n",
    "    # **override** the area() method\n",
    "    def area(self):\n",
    "        \"\"\"Compute the area of this circle.\"\"\"\n",
    "        a = math.pi*self.radius**2\n",
    "        return a\n",
    "        "
   ]
  },
  {
   "cell_type": "code",
   "execution_count": 19,
   "metadata": {
    "collapsed": false
   },
   "outputs": [
    {
     "name": "stdout",
     "output_type": "stream",
     "text": [
      "12.5663706144\n",
      "3.14159265359\n"
     ]
    }
   ],
   "source": [
    "# Same outputs as before\n",
    "c0 = Circle(0, 0, 2)\n",
    "c1 = Circle(1, 1)\n",
    "\n",
    "# No errors when calling area(). \n",
    "print c0.area()\n",
    "print c1.area()"
   ]
  },
  {
   "cell_type": "code",
   "execution_count": 20,
   "metadata": {
    "collapsed": true
   },
   "outputs": [],
   "source": [
    "# A rectangle is a Shape.\n",
    "class Rect(Shape):\n",
    "    \n",
    "    def __init__(self, x, y, w, h):\n",
    "        \"\"\"(x,y) at the upper left corner.\n",
    "        w: width\n",
    "        h: height\n",
    "        \"\"\"\n",
    "        super(Rect, self).__init__(x, y)\n",
    "        self.w = w\n",
    "        self.h = h\n",
    "    \n",
    "    def area(self):\n",
    "        return self.w * self.h\n",
    "        "
   ]
  },
  {
   "cell_type": "code",
   "execution_count": 21,
   "metadata": {
    "collapsed": false
   },
   "outputs": [
    {
     "name": "stdout",
     "output_type": "stream",
     "text": [
      "6.0\n"
     ]
    }
   ],
   "source": [
    "r0 = Rect(0, 0, 2, 3.0)\n",
    "print r0.area()"
   ]
  },
  {
   "cell_type": "code",
   "execution_count": 22,
   "metadata": {
    "collapsed": true
   },
   "outputs": [],
   "source": [
    "# A Square is a special case of a Rect\n",
    "class Square(Rect):\n",
    "    def __init__(self, x, y, length):\n",
    "        # The constructor of Rect takes 4 inputs.\n",
    "        # But width = height for a Square\n",
    "        super(Square, self).__init__(x, y, length, length)\n",
    "    \n",
    "    # Don't need to define area(self) because \n",
    "    # Square **inherits** area() method from Rect"
   ]
  },
  {
   "cell_type": "code",
   "execution_count": 23,
   "metadata": {
    "collapsed": false
   },
   "outputs": [
    {
     "name": "stdout",
     "output_type": "stream",
     "text": [
      "4\n"
     ]
    }
   ],
   "source": [
    "sq0 = Square(0, 1, 2)\n",
    "print sq0.area()"
   ]
  },
  {
   "cell_type": "code",
   "execution_count": 24,
   "metadata": {
    "collapsed": false
   },
   "outputs": [
    {
     "name": "stdout",
     "output_type": "stream",
     "text": [
      "True\n",
      "True\n",
      "True\n",
      "False\n"
     ]
    }
   ],
   "source": [
    "print isinstance(sq0, Square)\n",
    "# sq0 is a Rect as well\n",
    "print isinstance(sq0, Rect)\n",
    "print isinstance(sq0, Shape)\n",
    "print isinstance(sq0, Circle)"
   ]
  },
  {
   "cell_type": "markdown",
   "metadata": {},
   "source": [
    "Even in OOP, there are times when it is more convenient to define functions (as in Matlab) independent of any class. For instance, a function that takes in a `Shape` object and saves it. In this case, we can do a simply type checking as follows"
   ]
  },
  {
   "cell_type": "code",
   "execution_count": 25,
   "metadata": {
    "collapsed": true
   },
   "outputs": [],
   "source": [
    "def save_shape(s):\n",
    "    if not isinstance(s, Shape):\n",
    "        raise ValueError('s has to be a Shape!')\n",
    "    else:\n",
    "        # s is a Shape\n",
    "        # save it\n",
    "        print 'Saved: %s'%str(s)\n"
   ]
  },
  {
   "cell_type": "code",
   "execution_count": 26,
   "metadata": {
    "collapsed": false,
    "scrolled": true
   },
   "outputs": [
    {
     "name": "stdout",
     "output_type": "stream",
     "text": [
      "Saved: <__main__.Circle object at 0x7f0ca82b0dd0>\n"
     ]
    }
   ],
   "source": [
    "save_shape(c0)\n",
    "# error\n",
    "#save_shape('I am a string not a Shape')"
   ]
  },
  {
   "cell_type": "markdown",
   "metadata": {},
   "source": [
    "## Magic functions, magic methods"
   ]
  },
  {
   "cell_type": "markdown",
   "metadata": {},
   "source": [
    "http://www.rafekettler.com/magicmethods.html \n",
    "\n",
    "Special methods in Python that carry special meaning. The names of magic methods are surrounded by `__` (double underscores). We have already seen `__init__()` for an object constructor. "
   ]
  },
  {
   "cell_type": "markdown",
   "metadata": {},
   "source": [
    "### `__str__`\n",
    "\n",
    "`__str__()` is used to convert an object to a string. Useful for quicking printing a summary of a complex object."
   ]
  },
  {
   "cell_type": "code",
   "execution_count": 27,
   "metadata": {
    "collapsed": true
   },
   "outputs": [],
   "source": [
    "class Square(Rect):\n",
    "    def __init__(self, x, y, length):\n",
    "        # The constructor of Rect takes 4 inputs.\n",
    "        # But width = height for a Square\n",
    "        super(Square, self).__init__(x, y, length, length)\n",
    "\n",
    "    def __str__(self):\n",
    "        \"\"\"Return a string.\"\"\"\n",
    "        return 'Square(x=%.2f, y=%.2f, len=%.2f)'%(self.x, self.y, self.w)"
   ]
  },
  {
   "cell_type": "code",
   "execution_count": 28,
   "metadata": {
    "collapsed": false
   },
   "outputs": [
    {
     "name": "stdout",
     "output_type": "stream",
     "text": [
      "Square(x=1.00, y=2.00, len=3.00)\n",
      "Square(x=1.00, y=2.00, len=3.00)\n"
     ]
    }
   ],
   "source": [
    "sq1 = Square(1, 2, 3)\n",
    "print sq1\n",
    "print str(sq1)"
   ]
  },
  {
   "cell_type": "markdown",
   "metadata": {},
   "source": [
    "### `__add__`\n",
    "\n",
    "Defining `__add__` will define the behaviour of + on object. There are magic methods for -, * as well. They are `__sub__` and `__mul__`. See http://www.rafekettler.com/magicmethods.html for more"
   ]
  },
  {
   "cell_type": "code",
   "execution_count": 29,
   "metadata": {
    "collapsed": true
   },
   "outputs": [],
   "source": [
    "class Vector2D(object):\n",
    "    def __init__(self, x, y):\n",
    "        self.x = x\n",
    "        self.y = y\n",
    "    \n",
    "    def __add__(self, other):\n",
    "        # other has to be a Vector2D object\n",
    "        nx = self.x + other.x\n",
    "        ny = self.y + other.y\n",
    "        v = Vector2D(nx, ny)\n",
    "        return v\n",
    "    \n",
    "    def __str__(self):\n",
    "        return '(%.2f, %.2f)'%(self.x, self.y)"
   ]
  },
  {
   "cell_type": "code",
   "execution_count": 30,
   "metadata": {
    "collapsed": false
   },
   "outputs": [
    {
     "name": "stdout",
     "output_type": "stream",
     "text": [
      "(2.00, 0.00)\n"
     ]
    }
   ],
   "source": [
    "v0 = Vector2D(1, 2)\n",
    "v1 = Vector2D(1, -2)\n",
    "# doing v0+v1 actually implicitly returns a new object\n",
    "print v0 + v1"
   ]
  },
  {
   "cell_type": "markdown",
   "metadata": {
    "collapsed": true
   },
   "source": [
    "### Note \n",
    "\n",
    "* Operator overloading can make the code difficult to read. Use with care. In many cases, simplying doing `a.add(b)` is sufficient (rather than `a + b` with an overloaded `+`).\n",
    "\n",
    "* numpy arrays are actually objects. So, `a` in `a = np.array([1,2,3])` is an object. Magic methods for indexing with `[..]` are overridden so that we can do `a[0]`."
   ]
  },
  {
   "cell_type": "markdown",
   "metadata": {},
   "source": [
    "## Measuring run time"
   ]
  },
  {
   "cell_type": "code",
   "execution_count": 31,
   "metadata": {
    "collapsed": true
   },
   "outputs": [],
   "source": [
    "import numpy as np\n",
    "\n",
    "def waste_time(n):\n",
    "    \"\"\"Do an eigen decomposition an nxn matrix\"\"\"\n",
    "    np.random.seed(1)\n",
    "    \n",
    "    R = np.random.randn(n, 100)\n",
    "    A = R.dot(R.T)\n",
    "    np.linalg.eig(A)\n",
    "    "
   ]
  },
  {
   "cell_type": "code",
   "execution_count": 32,
   "metadata": {
    "collapsed": false
   },
   "outputs": [
    {
     "name": "stdout",
     "output_type": "stream",
     "text": [
      "waste_time(500) took 1.312 secs\n"
     ]
    }
   ],
   "source": [
    "import time\n",
    "# One way to check the run time is\n",
    "# time.time() returns a time in seconds since the epoch (a fixed reference point in the past) \n",
    "# as a floating point number.\n",
    "start = time.time()\n",
    "n = 500\n",
    "waste_time(n)\n",
    "end = time.time()\n",
    "diff = end - start\n",
    "print 'waste_time(%d) took %.3f secs'%(n, diff)"
   ]
  },
  {
   "cell_type": "markdown",
   "metadata": {},
   "source": [
    "Note that time spent will also depend on how busy the CPU is at the moment the code is executed. So in practice, the run time is not really deterministic given the input."
   ]
  },
  {
   "cell_type": "markdown",
   "metadata": {},
   "source": [
    "## Context manager"
   ]
  },
  {
   "cell_type": "markdown",
   "metadata": {},
   "source": [
    "http://docs.quantifiedcode.com/python-anti-patterns/correctness/exit_must_accept_three_arguments.html\n",
    "\n",
    "The following code writes one line to a file."
   ]
  },
  {
   "cell_type": "code",
   "execution_count": 33,
   "metadata": {
    "collapsed": true
   },
   "outputs": [],
   "source": [
    "fname = 'test_file.txt'\n",
    "f = open(fname, 'w')\n",
    "f.write('hello')\n",
    "f.close()"
   ]
  },
  {
   "cell_type": "markdown",
   "metadata": {},
   "source": [
    "The following code does the exact same thing."
   ]
  },
  {
   "cell_type": "code",
   "execution_count": 34,
   "metadata": {
    "collapsed": true
   },
   "outputs": [],
   "source": [
    "with open(fname, 'w') as f:\n",
    "    f.write('hello')"
   ]
  },
  {
   "cell_type": "markdown",
   "metadata": {},
   "source": [
    "What is going on when we write `with ... as ...`? \n",
    "\n",
    "When we write `with (c) as (r)`, `(c)` is the so called a **context manager**, and `(r)` is the name of the context manager we want to refer to. Typically, a context manager is some resource that we want to access, and make sure that it is properly closed when we finish. To be able to use `with ... as ...`, `(c)` has to implement `__enter__()` and `__exit__()` magic functions.\n",
    "\n",
    "* When `with ... as ...` is executed, `__enter__()` is called.\n",
    "* When the `with ... as ...` block exists, `__exit__()` is called.\n",
    "\n",
    "In the case, of opening a file its `__exit__()` is implemented to do `f.close()` so we do not need to remember to close."
   ]
  },
  {
   "cell_type": "markdown",
   "metadata": {},
   "source": [
    "## A timer class"
   ]
  },
  {
   "cell_type": "markdown",
   "metadata": {},
   "source": [
    "We can make use of a context manager idea to build a class to time a piece of code:\n",
    "\n",
    "* `__enter__()` starts the timer.\n",
    "* `__exit__()` stops the timer.\n",
    "\n",
    "\n",
    "From https://www.huyng.com/posts/python-performance-analysis\n"
   ]
  },
  {
   "cell_type": "code",
   "execution_count": 35,
   "metadata": {
    "collapsed": true
   },
   "outputs": [],
   "source": [
    "class ContextTimer(object):\n",
    "    \"\"\"\n",
    "    A class used to time an executation of a code snippet. \n",
    "    Use it with with .... as ...\n",
    "    For example, \n",
    "\n",
    "        with ContextTimer() as t:\n",
    "            # do something \n",
    "        time_spent = t.secs\n",
    "\n",
    "    From https://www.huyng.com/posts/python-performance-analysis\n",
    "    \"\"\"\n",
    "\n",
    "    def __enter__(self):\n",
    "        self.start = time.time()\n",
    "        return self\n",
    "\n",
    "    def __exit__(self, *args):\n",
    "        self.end = time.time()\n",
    "        self.secs = self.end - self.start \n"
   ]
  },
  {
   "cell_type": "code",
   "execution_count": 36,
   "metadata": {
    "collapsed": false
   },
   "outputs": [
    {
     "name": "stdout",
     "output_type": "stream",
     "text": [
      "waste_time(500) took 1.050 secs\n"
     ]
    }
   ],
   "source": [
    "with ContextTimer() as t:\n",
    "    waste_time(n)\n",
    "\n",
    "print 'waste_time(%d) took %.3f secs'%(n, t.secs)"
   ]
  },
  {
   "cell_type": "code",
   "execution_count": null,
   "metadata": {
    "collapsed": true
   },
   "outputs": [],
   "source": []
  }
 ],
 "metadata": {
  "kernelspec": {
   "display_name": "Python [Root]",
   "language": "python",
   "name": "Python [Root]"
  },
  "language_info": {
   "codemirror_mode": {
    "name": "ipython",
    "version": 2
   },
   "file_extension": ".py",
   "mimetype": "text/x-python",
   "name": "python",
   "nbconvert_exporter": "python",
   "pygments_lexer": "ipython2",
   "version": "2.7.12"
  }
 },
 "nbformat": 4,
 "nbformat_minor": 0
}
