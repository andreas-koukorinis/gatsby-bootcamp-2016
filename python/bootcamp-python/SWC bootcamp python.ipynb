{
 "cells": [
  {
   "cell_type": "markdown",
   "metadata": {},
   "source": [
    "# SWC bootcamp\n",
    "\n",
    "### Reasons to use Python:\n",
    "* **10x faster ** than MATLAB\n",
    "* Easy interface with C code through Cython\n",
    "* Highly object oriented\n",
    "* Many packages designed for data science (numpy, scipy, matplotlib)\n",
    "* Free, no license"
   ]
  },
  {
   "cell_type": "markdown",
   "metadata": {},
   "source": [
    "## 1. Basic arithmatics"
   ]
  },
  {
   "cell_type": "markdown",
   "metadata": {},
   "source": [
    "### Integer division"
   ]
  },
  {
   "cell_type": "code",
   "execution_count": null,
   "metadata": {
    "collapsed": false
   },
   "outputs": [],
   "source": [
    "a = 1/2\n",
    "b = 1/2.\n",
    "c = float(1)/2\n",
    "print a\n",
    "print b\n",
    "print c"
   ]
  },
  {
   "cell_type": "markdown",
   "metadata": {},
   "source": [
    "### Power"
   ]
  },
  {
   "cell_type": "code",
   "execution_count": null,
   "metadata": {
    "collapsed": false
   },
   "outputs": [],
   "source": [
    "print 2**3\n",
    "print 2**3."
   ]
  },
  {
   "cell_type": "markdown",
   "metadata": {},
   "source": [
    "### the += operation"
   ]
  },
  {
   "cell_type": "code",
   "execution_count": null,
   "metadata": {
    "collapsed": false
   },
   "outputs": [],
   "source": [
    "a = 1\n",
    "print a\n",
    "a += 1\n",
    "print a\n"
   ]
  },
  {
   "cell_type": "code",
   "execution_count": null,
   "metadata": {
    "collapsed": false
   },
   "outputs": [],
   "source": [
    "a =+ 1\n",
    "print a"
   ]
  },
  {
   "cell_type": "markdown",
   "metadata": {},
   "source": [
    "### Results of last execution statement"
   ]
  },
  {
   "cell_type": "code",
   "execution_count": null,
   "metadata": {
    "collapsed": false
   },
   "outputs": [],
   "source": [
    "print _"
   ]
  },
  {
   "cell_type": "code",
   "execution_count": null,
   "metadata": {
    "collapsed": false
   },
   "outputs": [],
   "source": [
    "1+1"
   ]
  },
  {
   "cell_type": "code",
   "execution_count": null,
   "metadata": {
    "collapsed": false
   },
   "outputs": [],
   "source": [
    "print _"
   ]
  },
  {
   "cell_type": "markdown",
   "metadata": {},
   "source": [
    "### `math` module and `dir()`"
   ]
  },
  {
   "cell_type": "code",
   "execution_count": null,
   "metadata": {
    "collapsed": false
   },
   "outputs": [],
   "source": [
    "import math\n",
    "print dir(math)"
   ]
  },
  {
   "cell_type": "code",
   "execution_count": null,
   "metadata": {
    "collapsed": false
   },
   "outputs": [],
   "source": [
    "print math.e\n",
    "print math.exp(123)\n",
    "help(math.trunc)"
   ]
  },
  {
   "cell_type": "markdown",
   "metadata": {},
   "source": [
    "But if you don't what to use the `math.` prefix, then you could do"
   ]
  },
  {
   "cell_type": "code",
   "execution_count": null,
   "metadata": {
    "collapsed": false
   },
   "outputs": [],
   "source": [
    "from math import *\n",
    "print e, pi"
   ]
  },
  {
   "cell_type": "markdown",
   "metadata": {},
   "source": [
    "## 2. Types"
   ]
  },
  {
   "cell_type": "markdown",
   "metadata": {},
   "source": [
    "### Numerical types\n",
    "There are three numerical types:\n",
    "   * integers\n",
    "   * floating point numbers\n",
    "   * complex floating point numbers\n",
    "   \n",
    "We can figure the type using the `type()` function, similar to `class` in MATLAB"
   ]
  },
  {
   "cell_type": "markdown",
   "metadata": {},
   "source": [
    "#### Integers"
   ]
  },
  {
   "cell_type": "code",
   "execution_count": null,
   "metadata": {
    "collapsed": false
   },
   "outputs": [],
   "source": [
    "an_integer = 123\n",
    "a_float = float(an_integer)\n",
    "print type(an_integer)\n",
    "print type(a_float)"
   ]
  },
  {
   "cell_type": "markdown",
   "metadata": {},
   "source": [
    "#### floating points"
   ]
  },
  {
   "cell_type": "code",
   "execution_count": null,
   "metadata": {
    "collapsed": false
   },
   "outputs": [],
   "source": [
    "a_string = \"123.123\"\n",
    "a_float = float(a_string)\n",
    "print a_float"
   ]
  },
  {
   "cell_type": "markdown",
   "metadata": {},
   "source": [
    "complex"
   ]
  },
  {
   "cell_type": "code",
   "execution_count": null,
   "metadata": {
    "collapsed": false
   },
   "outputs": [],
   "source": [
    "c = 1 + 3j\n",
    "c_real = c.real\n",
    "c_imag = c.imag\n",
    "print c\n",
    "print c_real\n",
    "print c_imag\n",
    "print type(c)\n",
    "print c.conjugate()\n",
    "\n",
    "import cmath\n",
    "print cmath.sqrt(-1)"
   ]
  },
  {
   "cell_type": "markdown",
   "metadata": {},
   "source": [
    "### Sequences\n",
    "Common sequenses include:\n",
    "    * String\n",
    "    * List\n",
    "    * Tuples\n",
    "    * Dictionary"
   ]
  },
  {
   "cell_type": "markdown",
   "metadata": {},
   "source": [
    "#### Strings\n",
    "A string is a (immutable) sequence of characters."
   ]
  },
  {
   "cell_type": "code",
   "execution_count": null,
   "metadata": {
    "collapsed": false
   },
   "outputs": [],
   "source": [
    "a_string = '123'\n",
    "an_integer = int(a_string)\n",
    "another_string = str(an_integer)\n",
    "print an_integer\n",
    "print another_string\n",
    "a_string[0] = '2'"
   ]
  },
  {
   "cell_type": "code",
   "execution_count": null,
   "metadata": {
    "collapsed": false
   },
   "outputs": [],
   "source": [
    "a_string = 'The Great Gatsby'\n",
    "print a_string[1]\n",
    "print a_string[1:2]\n",
    "\n",
    "print a_string[:3]\n",
    "print a_string[0:3]\n",
    "\n",
    "print a_string[-6:]\n"
   ]
  },
  {
   "cell_type": "markdown",
   "metadata": {},
   "source": [
    "string concatenation is very simple in Python"
   ]
  },
  {
   "cell_type": "code",
   "execution_count": null,
   "metadata": {
    "collapsed": false
   },
   "outputs": [],
   "source": [
    "s1 = 'The Great'\n",
    "s2 = ' Gatsby'\n",
    "s3 = s1 + s2\n",
    "print s3"
   ]
  },
  {
   "cell_type": "markdown",
   "metadata": {},
   "source": [
    "Usually, it would be useful to include data into your string so that it is more readable"
   ]
  },
  {
   "cell_type": "code",
   "execution_count": null,
   "metadata": {
    "collapsed": false
   },
   "outputs": [],
   "source": [
    "print 'this is a long pi ', math.pi\n",
    "print 'this is a short pi %10.3f' % math.pi"
   ]
  },
  {
   "cell_type": "markdown",
   "metadata": {},
   "source": [
    "The format specifier of type `%W.Df` means that a Float should be printed with a total Width of W\n",
    "characters and D digits behind the Decimal point while printed digits are right-aligned\n",
    "\n",
    "Other useful examples:"
   ]
  },
  {
   "cell_type": "code",
   "execution_count": null,
   "metadata": {
    "collapsed": false
   },
   "outputs": [],
   "source": [
    "print \" Pi = %10.2f\" % math.pi\n",
    "print \" Pi = %10.5f\" % (math.e * 10)\n",
    "print \" Pi = %10.3e\" % (math.pi * 100.)\n",
    "print \" Pi = %10d\" % math.pi"
   ]
  },
  {
   "cell_type": "markdown",
   "metadata": {},
   "source": [
    "#### Lists"
   ]
  },
  {
   "cell_type": "markdown",
   "metadata": {},
   "source": [
    "creating a list"
   ]
  },
  {
   "cell_type": "code",
   "execution_count": null,
   "metadata": {
    "collapsed": true
   },
   "outputs": [],
   "source": [
    "string_list = ['The', 'Great', 'Gatsby']\n",
    "\n",
    "a_range = range(10)\n",
    "print a_range\n",
    "\n",
    "a_range = range(0,10,2)\n",
    "print a_range\n",
    "\n",
    "a_list = [1]*3\n",
    "print a_list"
   ]
  },
  {
   "cell_type": "markdown",
   "metadata": {},
   "source": [
    "slicing"
   ]
  },
  {
   "cell_type": "code",
   "execution_count": null,
   "metadata": {
    "collapsed": false
   },
   "outputs": [],
   "source": [
    "print string_list[0]\n",
    "print string_list[0:1]\n",
    "\n",
    "print string_list[-1]\n",
    "print string_list[-1:]"
   ]
  },
  {
   "cell_type": "markdown",
   "metadata": {},
   "source": [
    "Can have a nested list"
   ]
  },
  {
   "cell_type": "code",
   "execution_count": null,
   "metadata": {
    "collapsed": false
   },
   "outputs": [],
   "source": [
    "a_nested_list = [1,[1,2,3],2,3]\n",
    "print a_nested_list[1][2]"
   ]
  },
  {
   "cell_type": "markdown",
   "metadata": {},
   "source": [
    "append to a list is constant time, so in Python there is no need to preallocate memory"
   ]
  },
  {
   "cell_type": "code",
   "execution_count": null,
   "metadata": {
    "collapsed": false
   },
   "outputs": [],
   "source": [
    "list = []\n",
    "for i in range(3):\n",
    "    list.append(i)\n",
    "print list"
   ]
  },
  {
   "cell_type": "markdown",
   "metadata": {},
   "source": [
    "#### Tuples\n",
    "Tuples behave very similar to lists except that they are immutable. Usually people think that tuples have *structure* while lists have *order*, but it doesn't matter so much to me..."
   ]
  },
  {
   "cell_type": "code",
   "execution_count": null,
   "metadata": {
    "collapsed": false
   },
   "outputs": [],
   "source": [
    "a_tuple = 1,2,3\n",
    "a_list  = [1,2,3]\n",
    "a_list[0] = -1\n",
    "print a_list\n",
    "a_tuple[0]=-1"
   ]
  },
  {
   "cell_type": "markdown",
   "metadata": {},
   "source": [
    "Tuples and lists does not have to contain data of the same type"
   ]
  },
  {
   "cell_type": "code",
   "execution_count": null,
   "metadata": {
    "collapsed": false
   },
   "outputs": [],
   "source": [
    "a_tuple = [1,'2',3.0]\n",
    "print a_tuple"
   ]
  },
  {
   "cell_type": "code",
   "execution_count": null,
   "metadata": {
    "collapsed": false
   },
   "outputs": [],
   "source": [
    "another_tuple = tuple(a_list)\n",
    "another_list = list(a_tuple)\n",
    "print another_tuple\n",
    "print another_list"
   ]
  },
  {
   "cell_type": "markdown",
   "metadata": {},
   "source": [
    "Tuples can be used to make multiple assignment at the same time"
   ]
  },
  {
   "cell_type": "code",
   "execution_count": null,
   "metadata": {
    "collapsed": false
   },
   "outputs": [],
   "source": [
    "a,b = 1,2\n",
    "print a, b\n",
    "a, b = b, a\n",
    "print a,b"
   ]
  },
  {
   "cell_type": "markdown",
   "metadata": {},
   "source": [
    "#### Useful functions for lists\n"
   ]
  },
  {
   "cell_type": "code",
   "execution_count": null,
   "metadata": {
    "collapsed": false
   },
   "outputs": [],
   "source": [
    "print len(string_list)\n",
    "\n",
    "s1 = '_'.join(string_list)\n",
    "print s1\n",
    "\n",
    "s2 = s1.split('_')\n",
    "print s2"
   ]
  },
  {
   "cell_type": "markdown",
   "metadata": {},
   "source": [
    "### Dictionaries\n",
    "\n",
    "Very useful if data/function/objects has semantic meaning. Dicts are unordered, so cannot be indexed by interegers\n",
    "\n",
    "There are many ways to build a dictionary. The `zip()` function can be very useful"
   ]
  },
  {
   "cell_type": "code",
   "execution_count": null,
   "metadata": {
    "collapsed": false
   },
   "outputs": [],
   "source": [
    "d = {}\n",
    "d['age'] = 18\n",
    "d['name'] = 'Kevin'\n",
    "d2 = dict(age = 18, name='Kevin')\n",
    "d3 = dict([('name','Kevin'),('age',18)])\n",
    "d4 = dict(zip(['name','age'],['Kevin',18] ))\n",
    "print d\n",
    "print d2\n",
    "print d3\n",
    "print d4"
   ]
  },
  {
   "cell_type": "markdown",
   "metadata": {},
   "source": [
    "#### Some useful functions with dicts"
   ]
  },
  {
   "cell_type": "code",
   "execution_count": null,
   "metadata": {
    "collapsed": false
   },
   "outputs": [],
   "source": [
    "print d.keys()\n",
    "print d.values()\n",
    "print d.has_key('1')"
   ]
  },
  {
   "cell_type": "markdown",
   "metadata": {},
   "source": [
    "### Compreshensions"
   ]
  },
  {
   "cell_type": "code",
   "execution_count": null,
   "metadata": {
    "collapsed": false
   },
   "outputs": [],
   "source": [
    "a = [i**3+2**2+4 for i in range(10)]\n",
    "print a"
   ]
  },
  {
   "cell_type": "code",
   "execution_count": null,
   "metadata": {
    "collapsed": false
   },
   "outputs": [],
   "source": [
    "d = dict( [(str(k),i**3+2**2+4) for k in range(10)] )\n",
    "print d"
   ]
  },
  {
   "cell_type": "code",
   "execution_count": null,
   "metadata": {
    "collapsed": false
   },
   "outputs": [],
   "source": [
    "nested = [ [1,2,3],[4,5,6] ]\n",
    "single = [v for l in nested for v in l]\n",
    "print single"
   ]
  },
  {
   "cell_type": "markdown",
   "metadata": {},
   "source": [
    "### Loops and conditions"
   ]
  },
  {
   "cell_type": "markdown",
   "metadata": {},
   "source": [
    "To iterate through a list:\n",
    "\n",
    "    for i in list:\n",
    "    for i in range(len(list)):\n",
    "    for i, v in enumerate(list):\n",
    "    \n",
    "Imagine that we have a list of numbers that represent different measures of a classifier's performance"
   ]
  },
  {
   "cell_type": "code",
   "execution_count": null,
   "metadata": {
    "collapsed": false
   },
   "outputs": [],
   "source": [
    "data = [0.9, 0.1, 0.34, 0.123]\n",
    "for d in data:\n",
    "    print d "
   ]
  },
  {
   "cell_type": "code",
   "execution_count": null,
   "metadata": {
    "collapsed": false
   },
   "outputs": [],
   "source": [
    "names = ['acc', 'err', 'dp', 'loss']\n",
    "data = [0.9, 0.1, 0.34, 0.123]\n",
    "for i in range(len(data)):\n",
    "    print names[i] + ' is ' + str(data[i])"
   ]
  },
  {
   "cell_type": "code",
   "execution_count": null,
   "metadata": {
    "collapsed": false,
    "scrolled": true
   },
   "outputs": [],
   "source": [
    "for i, v in enumerate(data):\n",
    "    print names[i]+ ' is ' + str(v)"
   ]
  },
  {
   "cell_type": "markdown",
   "metadata": {},
   "source": [
    "To iterate through a dict:\n",
    "\n",
    "    for k in list:\n",
    "    for k in list.keys():\n",
    "    for v in list.values():\n",
    "    for k, v in list.iteritems():\n",
    "    \n",
    "Imagine that we have a list of numbers that represent different measures of a classifier's performance"
   ]
  },
  {
   "cell_type": "code",
   "execution_count": null,
   "metadata": {
    "collapsed": false
   },
   "outputs": [],
   "source": [
    "d = dict(zip(names, data))\n",
    "for k in d.keys():\n",
    "    print k, 'is', d[k]"
   ]
  },
  {
   "cell_type": "code",
   "execution_count": null,
   "metadata": {
    "collapsed": false
   },
   "outputs": [],
   "source": [
    "d = dict(zip(names, data))\n",
    "for k, v in d.iteritems():\n",
    "    print k, 'is', v"
   ]
  },
  {
   "cell_type": "markdown",
   "metadata": {},
   "source": [
    "Examples of the `while` loop"
   ]
  },
  {
   "cell_type": "code",
   "execution_count": null,
   "metadata": {
    "collapsed": false
   },
   "outputs": [],
   "source": [
    "counter = 0\n",
    "while counter < 5:\n",
    "    counter += 1\n",
    "    print counter\n"
   ]
  },
  {
   "cell_type": "code",
   "execution_count": null,
   "metadata": {
    "collapsed": true
   },
   "outputs": [],
   "source": [
    "from random import random\n",
    "finished = False\n",
    "while finished is not True:\n",
    "    r = random()\n",
    "    if r < 0.1:\n",
    "        finished = True\n",
    "    print r"
   ]
  },
  {
   "cell_type": "markdown",
   "metadata": {},
   "source": [
    "## Assignments, Identities and equalities\n",
    "In Python, one needs to be careful about creating copies. Behaviours differ depending on their types. Generally, when assigning a numerical using `=`, the number gets copied, but when assigning a container, then something else happens... "
   ]
  },
  {
   "cell_type": "code",
   "execution_count": null,
   "metadata": {
    "collapsed": false
   },
   "outputs": [],
   "source": [
    "x = y = z = 1\n",
    "print x,y,z"
   ]
  },
  {
   "cell_type": "code",
   "execution_count": null,
   "metadata": {
    "collapsed": false
   },
   "outputs": [],
   "source": [
    "x += 1\n",
    "print x,y,z"
   ]
  },
  {
   "cell_type": "code",
   "execution_count": null,
   "metadata": {
    "collapsed": false
   },
   "outputs": [],
   "source": [
    "a = [1,2,3]\n",
    "b = a\n",
    "a[1] = 10\n",
    "print b"
   ]
  },
  {
   "cell_type": "markdown",
   "metadata": {},
   "source": [
    "When assigning a variable to an object, Python creates this object and a variable that points to it. In essence, x is not 1, but a reference to it. One can think of x as a box that contains the object 1.\n",
    "\n",
    "When the object is numerical, assigning another variable to it creates a copy of the object that is contained by the new object. However, things change of a list, dict and many other non-numerical objects). Assigning another variable does not create a copy but just create another box that contains the same object.\n",
    "\n",
    "Not sure about what this means? Let's try the `id()` function. It indicates where in the memory the object reference by the variable"
   ]
  },
  {
   "cell_type": "code",
   "execution_count": null,
   "metadata": {
    "collapsed": false
   },
   "outputs": [],
   "source": [
    "print id(x), id(y), id(z)\n",
    "print id(a), id(b)"
   ]
  },
  {
   "cell_type": "markdown",
   "metadata": {},
   "source": [
    "One of the correct ways to copy a list is through sliceing with `:`"
   ]
  },
  {
   "cell_type": "code",
   "execution_count": null,
   "metadata": {
    "collapsed": false
   },
   "outputs": [],
   "source": [
    "a = [1,2,3]\n",
    "a_copy = a[:]\n",
    "a_copy[1] = 10\n",
    "print a, a_copy\n",
    "print id(a), id(a_copy)"
   ]
  },
  {
   "cell_type": "markdown",
   "metadata": {},
   "source": [
    "If two variables share the same id and this object is not numerical, then any change made through one variable will affect the results processed through another variable that points to the same object.\n",
    "\n",
    "**One should be very careful about constructing a container of objects.** If lists are created by comprehension and the contents are non-numerical, then you are creating copies of the same thing!"
   ]
  },
  {
   "cell_type": "code",
   "execution_count": null,
   "metadata": {
    "collapsed": false
   },
   "outputs": [],
   "source": [
    "list_container = [[]]*3\n",
    "list_container[0].append(1)\n",
    "print list_container\n",
    "\n",
    "list_container_2 = []\n",
    "for i in range(3):\n",
    "    list_container_2.append([])\n",
    "list_container_2[0].append(1)\n",
    "print list_container_2"
   ]
  },
  {
   "cell_type": "markdown",
   "metadata": {},
   "source": [
    "Given above, we learned that variables (name as appeared) can point to different objects (internally stored). Therefore, equality and identity between variables are different in Python. \n",
    "* Equality: references that point to the **objects that share the same value**\n",
    "* Identity: references that point to the **same object in memory**/id"
   ]
  },
  {
   "cell_type": "markdown",
   "metadata": {},
   "source": [
    "#### Numerical"
   ]
  },
  {
   "cell_type": "code",
   "execution_count": null,
   "metadata": {
    "collapsed": false,
    "scrolled": true
   },
   "outputs": [],
   "source": [
    "x = y = z = 1\n",
    "print id(x), id(y), id(z)\n",
    "print x == y == z\n",
    "print x is y is z"
   ]
  },
  {
   "cell_type": "markdown",
   "metadata": {},
   "source": [
    "But when you give a reference back the same value, it will then be pointing to the original object."
   ]
  },
  {
   "cell_type": "code",
   "execution_count": null,
   "metadata": {
    "collapsed": false
   },
   "outputs": [],
   "source": [
    "x = 2\n",
    "print id(x), id(y), id(z)\n",
    "x = 1\n",
    "print id(x), id(y), id(z)"
   ]
  },
  {
   "cell_type": "markdown",
   "metadata": {},
   "source": [
    "#### Other objects"
   ]
  },
  {
   "cell_type": "code",
   "execution_count": null,
   "metadata": {
    "collapsed": false
   },
   "outputs": [],
   "source": [
    "a = [1,2,3]\n",
    "b = a\n",
    "a_copy = a[:]\n",
    "print a == b == a_copy\n",
    "print a is b\n",
    "print b is a_copy"
   ]
  },
  {
   "cell_type": "markdown",
   "metadata": {},
   "source": [
    "The most common way of creating a copy is through the `copy` module, but can be slow"
   ]
  },
  {
   "cell_type": "code",
   "execution_count": null,
   "metadata": {
    "collapsed": false
   },
   "outputs": [],
   "source": [
    "import copy\n",
    "%timeit a_copy = copy.copy(a)\n",
    "%timeit a_copy = a[:]"
   ]
  },
  {
   "cell_type": "markdown",
   "metadata": {},
   "source": [
    "## Functions\n",
    "\n",
    "We are going to introduce two types of functions: standard function and lambda functions (inline)"
   ]
  },
  {
   "cell_type": "code",
   "execution_count": null,
   "metadata": {
    "collapsed": false
   },
   "outputs": [],
   "source": [
    "def times2(a):\n",
    "    '''double the input\n",
    "    b = times(a) is equivalent to 2.0*a\n",
    "    '''\n",
    "    return a*2.0\n",
    "print times2(2)"
   ]
  },
  {
   "cell_type": "code",
   "execution_count": null,
   "metadata": {
    "collapsed": false
   },
   "outputs": [],
   "source": [
    "help(times2)"
   ]
  },
  {
   "cell_type": "markdown",
   "metadata": {},
   "source": [
    "Below is a simple recursive definition of a function that returns the $a$'th number in the Fibonacci sequence"
   ]
  },
  {
   "cell_type": "code",
   "execution_count": null,
   "metadata": {
    "collapsed": false
   },
   "outputs": [],
   "source": [
    "def Fib(a):\n",
    "    \"\"\"compute the a'th number in the Fibonacci sequence\"\"\"\n",
    "    if a == 0:\n",
    "        return 0\n",
    "    elif a == 1:\n",
    "        return 1\n",
    "    else:\n",
    "        return Fib(a-1) + Fib(a-2)\n",
    "print Fib(5)\n",
    "print [Fib(i) for i in range(10)]"
   ]
  },
  {
   "cell_type": "markdown",
   "metadata": {},
   "source": [
    "We can also define functions with more than one outputs"
   ]
  },
  {
   "cell_type": "code",
   "execution_count": null,
   "metadata": {
    "collapsed": false
   },
   "outputs": [],
   "source": [
    "def left_right(a):\n",
    "    return a-1, a+1\n",
    "left, right = left_right(2)\n",
    "print left, right\n",
    "\n",
    "print left_right(2)[0]\n",
    "left, _ = left_right(2)\n",
    "print left"
   ]
  },
  {
   "cell_type": "code",
   "execution_count": null,
   "metadata": {
    "collapsed": false
   },
   "outputs": [],
   "source": [
    "times3 = lambda x: x * 3.0\n",
    "times3(2)"
   ]
  },
  {
   "cell_type": "markdown",
   "metadata": {
    "collapsed": true
   },
   "source": [
    "Python has some built-in functional tools that are very useful.\n",
    "* map\n",
    "* filter\n",
    "* reduce\n",
    "\n",
    "#### `map`\n",
    "The map function `st2 = map(f, s )`applies a function f to all elements in a sequence `s`. The return\n",
    "value `lst2` of `map` is a list and has the same length as `s`"
   ]
  },
  {
   "cell_type": "code",
   "execution_count": null,
   "metadata": {
    "collapsed": false
   },
   "outputs": [],
   "source": [
    "import string\n",
    "map( string.capitalize , ['banana', 'apple' , 'orange'])"
   ]
  },
  {
   "cell_type": "code",
   "execution_count": null,
   "metadata": {
    "collapsed": false
   },
   "outputs": [],
   "source": [
    "map( lambda x : x ** 2 , range (10) )"
   ]
  },
  {
   "cell_type": "markdown",
   "metadata": {},
   "source": [
    "`map` and list comprehensions seem to be very similar, but see below and many other sources that explain their differences. Some general observations\n",
    "* lists and maps are usually faster than for loops\n",
    "* map introduces new scope inside the `lambda` so is usually safer\n",
    "* list comprehensions can be slightly faster than map"
   ]
  },
  {
   "cell_type": "code",
   "execution_count": null,
   "metadata": {
    "collapsed": false
   },
   "outputs": [],
   "source": [
    "print map(lambda x,y: x+y, [1,2,3],[4,5,6])\n",
    "print [x + y for x, y in zip([1,2,3],[4,5,6])]"
   ]
  },
  {
   "cell_type": "code",
   "execution_count": null,
   "metadata": {
    "collapsed": false
   },
   "outputs": [],
   "source": [
    "%timeit y = [ x ** 2 for x in range (10) ]\n",
    "%timeit y = map( lambda x : x ** 2 , range (10))"
   ]
  },
  {
   "cell_type": "markdown",
   "metadata": {},
   "source": [
    "#### `filter`\n",
    "\n",
    "The `filter` function `lst2 = filter( f, lst)` applies the function `f` to all elements in a sequence `s`.\n",
    "    The function `f` should return `True` or `False`. The return value `lst2` is a list which will contain only those elements `si` of the sequence `s` for which `f(si)` has return True."
   ]
  },
  {
   "cell_type": "code",
   "execution_count": null,
   "metadata": {
    "collapsed": false
   },
   "outputs": [],
   "source": [
    "def greater_than_5 ( x ):\n",
    "    if x > 5:\n",
    "        return True\n",
    "    else :\n",
    "        return False\n",
    "filter(greater_than_5 , range(11))\n",
    "\n",
    "filter (lambda x : x > 5 , range(11))"
   ]
  },
  {
   "cell_type": "code",
   "execution_count": null,
   "metadata": {
    "collapsed": false
   },
   "outputs": [],
   "source": [
    "known_names = [ 'kevin' , 'wittawat']\n",
    "filter(lambda name: name in known_names, ['smith', 'kevin'])"
   ]
  },
  {
   "cell_type": "markdown",
   "metadata": {},
   "source": [
    "## File I/O"
   ]
  },
  {
   "cell_type": "markdown",
   "metadata": {},
   "source": [
    "### Check for existence"
   ]
  },
  {
   "cell_type": "code",
   "execution_count": null,
   "metadata": {
    "collapsed": false
   },
   "outputs": [],
   "source": [
    "import os\n",
    "print os.path.exists('my_first_file.txt')\n",
    "print os.path.isfile('my_first_file.txt')"
   ]
  },
  {
   "cell_type": "markdown",
   "metadata": {},
   "source": [
    "### Write to and read from a text file"
   ]
  },
  {
   "cell_type": "code",
   "execution_count": null,
   "metadata": {
    "collapsed": false
   },
   "outputs": [],
   "source": [
    "f = open('my_first_file.txt', 'w')\n",
    "f.write('Hello world!')\n",
    "f.close()\n",
    "\n",
    "!type my_first_file.txt"
   ]
  },
  {
   "cell_type": "code",
   "execution_count": null,
   "metadata": {
    "collapsed": false
   },
   "outputs": [],
   "source": [
    "f = open('my_first_file.txt', 'r')\n",
    "line = f.readline()\n",
    "print line\n",
    "f.close()"
   ]
  },
  {
   "cell_type": "code",
   "execution_count": null,
   "metadata": {
    "collapsed": false
   },
   "outputs": [],
   "source": [
    "f = open('animals.txt', 'w')\n",
    "for animal in [\"Animal\\tFood\",\"Sloth\\tLeaves\", \"Chicken\\tCorn\", \"Ant_eater\\tAnts\", \\\n",
    "               \"Penguin\\tFish\", \"Armadillo\\tIce_cream\"]:\n",
    "    f.write(\"%s\\n\" % animal)\n",
    "f.close()\n",
    "!type animals.txt"
   ]
  },
  {
   "cell_type": "code",
   "execution_count": null,
   "metadata": {
    "collapsed": false
   },
   "outputs": [],
   "source": [
    "f = open(\"animals.txt\", \"r\")\n",
    "lines = f.readlines()\n",
    "print lines\n",
    "len(lines)\n",
    "f.close()"
   ]
  },
  {
   "cell_type": "markdown",
   "metadata": {},
   "source": [
    "Because the entire file is first read into memory, this can be slow or unfeasible for large files.\n",
    "\n",
    "Processing each line in a file is such a common operation, Python provides the following simple syntax\n"
   ]
  },
  {
   "cell_type": "code",
   "execution_count": null,
   "metadata": {
    "collapsed": false
   },
   "outputs": [],
   "source": [
    "f = open(\"animals.txt\", \"r\")\n",
    "for line in f:\n",
    "    print(line.strip())\n",
    "f.close()"
   ]
  },
  {
   "cell_type": "markdown",
   "metadata": {},
   "source": [
    "It is very easy to forget to close a file, so use the following way to open a file."
   ]
  },
  {
   "cell_type": "code",
   "execution_count": null,
   "metadata": {
    "collapsed": false
   },
   "outputs": [],
   "source": [
    "with open(\"animals.txt\", \"r\") as infile:\n",
    "    for line in infile:\n",
    "        print(line.rstrip())"
   ]
  },
  {
   "cell_type": "code",
   "execution_count": null,
   "metadata": {
    "collapsed": false
   },
   "outputs": [],
   "source": [
    "import os\n",
    "with open(\"animals.txt\", \"r\") as infile:\n",
    "    with open(\"animals.csv\", \"w\") as outfile:\n",
    "        for line in infile:\n",
    "            outfile.write(\",\".join(line.split()))\n",
    "            outfile.write(os.linesep)  # Writes \\n for us!\n",
    "                \n",
    "# Reads the csv file with double lines. Need to remove both lines\n",
    "with open(\"animals.csv\", \"r\") as infile:\n",
    "    for line in infile:\n",
    "        print(line.rstrip())"
   ]
  },
  {
   "cell_type": "markdown",
   "metadata": {},
   "source": [
    "### Multiple files, the `glob` module\n",
    "\n",
    "When dealing with multiple files, one often puts the directories of the files in a list and iterate over them. Example of these files could be the log of many experiments that have the same file extension/structure and need to be aggregated for data processing"
   ]
  },
  {
   "cell_type": "code",
   "execution_count": null,
   "metadata": {
    "collapsed": false
   },
   "outputs": [],
   "source": [
    "import glob\n",
    "text_files = glob.glob(\"*.txt\")\n",
    "for t in text_files:\n",
    "    print(t)"
   ]
  },
  {
   "cell_type": "markdown",
   "metadata": {},
   "source": [
    "### Pickle\n",
    "\n",
    "The pickle module and it's more efficient cPickle version provide two functions, dump() and load(), that allow writing and reading arbitrary Python objects (doesn't work for C objects)\n",
    "\n"
   ]
  },
  {
   "cell_type": "code",
   "execution_count": null,
   "metadata": {
    "collapsed": false
   },
   "outputs": [],
   "source": [
    "from cPickle import dump, load\n",
    "l = [\"a\", \"list\", \"with\", \"stuff\", [42, 23, 3.14], True]\n",
    "with open(\"my_list.pkl\", \"w\") as f:\n",
    "    dump(l, f)\n",
    "with open(\"my_list.pkl\", \"r\") as f:\n",
    "    l = load(f)\n",
    "l"
   ]
  }
 ],
 "metadata": {
  "kernelspec": {
   "display_name": "Python 2",
   "language": "python",
   "name": "python2"
  },
  "language_info": {
   "codemirror_mode": {
    "name": "ipython",
    "version": 2
   },
   "file_extension": ".py",
   "mimetype": "text/x-python",
   "name": "python",
   "nbconvert_exporter": "python",
   "pygments_lexer": "ipython2",
   "version": "2.7.11"
  }
 },
 "nbformat": 4,
 "nbformat_minor": 0
}
