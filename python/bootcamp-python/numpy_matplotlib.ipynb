{
 "cells": [
  {
   "cell_type": "markdown",
   "metadata": {},
   "source": [
    "# Introduction to Scientific Programming with Python\n",
    "\n",
    "## NumPy, matplotlib (briefly Scipy and scikit-learn)"
   ]
  },
  {
   "cell_type": "markdown",
   "metadata": {},
   "source": [
    "## Outline:\n",
    "* Overview/Review\n",
    "* Basic plotting with Matplotlib\n",
    "* NumPy arrays\n",
    "  * Array object\n",
    "  * Indexing & slicing\n",
    "  * Useful functions\n",
    "  * Broadcasting\n",
    "* SciPy Overview\n",
    "* Matplotlib Advanced Overview"
   ]
  },
  {
   "cell_type": "markdown",
   "metadata": {},
   "source": [
    "## Scientific Programming\n",
    " * What is scientific programming?\n",
    "  * Analyze data from scientific experiments\n",
    "  * “Number crunching”\n",
    "  * Turning mathematical formulae into code\n",
    " * Aspects of scientific programming\n",
    "  * Handling data: vectors, matrices & arrays\n",
    "  * Visualizing data\n",
    "  * Computing with arrays\n",
    "  * Useful functions and algorithms"
   ]
  },
  {
   "cell_type": "markdown",
   "metadata": {},
   "source": [
    "## NumPy, SciPy, matplotlib\n",
    "\n",
    "* NumPy\n",
    "  * its main object is a homogeneous n-dimensional array - very powerful\n",
    "  * useful linear algebra, Fourier transform, and random number capabilities\n",
    "  * See http://www.numpy.org\n",
    "* matplotlib\n",
    "  * flexible 2D plotting library\n",
    "  * produces publication quality figures\n",
    "  * See http://matplotlib.sourceforge.net/users/screenshots.html\n",
    "  * Arguably the most useful page on matplotlib.org is the gallery: http://matplotlib.org/gallery.html When you have a plot in mind but don't know how to write the code for it, this is the place to go!\n",
    "* SciPy\n",
    "  * built ontop of NumPy\n",
    "  * provides many user-friendly and efficient numerical routines such as routines for numerical integration and optimization \n",
    "  * See https://www.scipy.org"
   ]
  },
  {
   "cell_type": "markdown",
   "metadata": {},
   "source": [
    "## Importing numpy and matplotlib"
   ]
  },
  {
   "cell_type": "markdown",
   "metadata": {},
   "source": [
    "Start your notebook with **`%matplotlib inline`** - it enables the interactive plotting in your notebook or qtconsole:\n"
   ]
  },
  {
   "cell_type": "code",
   "execution_count": null,
   "metadata": {
    "collapsed": false
   },
   "outputs": [],
   "source": [
    "%matplotlib inline"
   ]
  },
  {
   "cell_type": "markdown",
   "metadata": {},
   "source": [
    "or use\n",
    "\n",
    "`%matplotlib qt`\n",
    "\n",
    "if you are using the qtconsole interface"
   ]
  },
  {
   "cell_type": "markdown",
   "metadata": {},
   "source": [
    "### Get plotting tools and numpy\n",
    "\n",
    "we need both plotting tools and numpy for this tutorial"
   ]
  },
  {
   "cell_type": "code",
   "execution_count": null,
   "metadata": {
    "collapsed": false
   },
   "outputs": [],
   "source": [
    "import matplotlib.pyplot as plt\n",
    "import numpy as np"
   ]
  },
  {
   "cell_type": "markdown",
   "metadata": {},
   "source": [
    "## Statistical analysis on numerical data\n",
    "\n",
    "Imagine we have performed an experiment to see how fast participants press a button after being shown a red light. The reaction times, in ms, are loaded in as a list:"
   ]
  },
  {
   "cell_type": "code",
   "execution_count": null,
   "metadata": {
    "collapsed": true
   },
   "outputs": [],
   "source": [
    "reaction_times = [340.1, 402.1, 540.2, 256.2, 839.1, 350.4, 200.9, 632.4, 492.4, 495.2, 310.9]"
   ]
  },
  {
   "cell_type": "markdown",
   "metadata": {},
   "source": [
    "We want to find the mean (average) reaction time, as well as the standard deviation, to put into our PhD thesis.\n",
    "\n",
    "* Mean (average) reaction time: $$\\bar{x} = \\frac{1}{N}\\sum_{i=1}^N x_i$$\n",
    " \n",
    "* Standard deviation of the reaction time: $$s = \\sqrt{\\frac{1}{N-1}\\sum_{i=1}^N (x_i - \\bar{x})^2}$$\n",
    "\n",
    "Using pure python, here is one way to do this:"
   ]
  },
  {
   "cell_type": "code",
   "execution_count": null,
   "metadata": {
    "collapsed": false
   },
   "outputs": [],
   "source": [
    "from math import sqrt\n",
    "\n",
    "# compute mean\n",
    "sum_total = 0\n",
    "for reaction_time in reaction_times:\n",
    "    sum_total += reaction_time\n",
    "mean_reaction_time = float(sum_total) / len(reaction_times)\n",
    "\n",
    "# compute standard deviation\n",
    "sum_squared_difference_from_mean = 0\n",
    "for reaction_time in reaction_times:\n",
    "    sum_squared_difference_from_mean += (reaction_time - mean_reaction_time) ** 2\n",
    "std_reaction_time = sqrt(float(sum_squared_difference_from_mean) / (len(reaction_times) - 1))\n",
    "\n",
    "print \"Mean reaction time is \", mean_reaction_time\n",
    "print \"Standard deviation of reaction times is \", std_reaction_time"
   ]
  },
  {
   "cell_type": "markdown",
   "metadata": {},
   "source": [
    "But this is:\n",
    "- Slow to type!\n",
    "- Slow to run! (on large datasets)\n",
    "- Prone to errors\n",
    "- Hard to read\n",
    "\n",
    "Is there a better way? \n",
    "\n",
    "YES\n",
    "\n",
    "Use **NumPy**\n",
    "\n",
    "(**Num**erical **Py**thon)"
   ]
  },
  {
   "cell_type": "code",
   "execution_count": null,
   "metadata": {
    "collapsed": false
   },
   "outputs": [],
   "source": [
    "import numpy as np\n",
    "\n",
    "print \"Mean reaction time is \", np.mean(reaction_times)\n",
    "print \"Standard deviation of reaction times is \", np.std(reaction_times)"
   ]
  },
  {
   "cell_type": "markdown",
   "metadata": {},
   "source": [
    "We can run many different numpy functions on lists of numbers:"
   ]
  },
  {
   "cell_type": "code",
   "execution_count": null,
   "metadata": {
    "collapsed": false
   },
   "outputs": [],
   "source": [
    "print \"Maxmimum reaction time is \", np.max(reaction_times)\n",
    "print \"Minimum reaction time is \", np.min(reaction_times)\n",
    "print \"Median reaction time is \", np.median(reaction_times)\n",
    "print \"The subject with the maximum reaction time is \", np.argmax(reaction_times)\n",
    "print \"Variance of the reaction times is \", np.var(reaction_times)"
   ]
  },
  {
   "cell_type": "markdown",
   "metadata": {},
   "source": [
    "## Numpy Arrays\n",
    "\n",
    "So far we have been using number operations on **lists** of numbers, like so:"
   ]
  },
  {
   "cell_type": "code",
   "execution_count": null,
   "metadata": {
    "collapsed": false
   },
   "outputs": [],
   "source": [
    "print reaction_times\n",
    "print np.mean(reaction_times)"
   ]
  },
  {
   "cell_type": "markdown",
   "metadata": {},
   "source": [
    "We can get a lot more power out of numpy if we use a numpy **array** instead of a list:"
   ]
  },
  {
   "cell_type": "code",
   "execution_count": null,
   "metadata": {
    "collapsed": false
   },
   "outputs": [],
   "source": [
    "reactions_np = np.array(reaction_times)\n",
    "reactions_np.mean()"
   ]
  },
  {
   "cell_type": "markdown",
   "metadata": {},
   "source": [
    "Here, we have converted the list to a numpy array. The numpy array contains the same information as the list, but we now get a lot more power. We can now do things like: "
   ]
  },
  {
   "cell_type": "code",
   "execution_count": null,
   "metadata": {
    "collapsed": false
   },
   "outputs": [],
   "source": [
    "# Array slicing - get an array of all the elements between index 3 and 6\n",
    "reactions_np[3:6]"
   ]
  },
  {
   "cell_type": "code",
   "execution_count": null,
   "metadata": {
    "collapsed": false
   },
   "outputs": [],
   "source": [
    "# Comparisons - show which locations are above a certain threshold\n",
    "reactions_np > 500"
   ]
  },
  {
   "cell_type": "code",
   "execution_count": null,
   "metadata": {
    "collapsed": false
   },
   "outputs": [],
   "source": [
    "# using the above code, index into the original array to get all the elements which are above the threshold:\n",
    "reactions_np[reactions_np > 500]"
   ]
  },
  {
   "cell_type": "code",
   "execution_count": null,
   "metadata": {
    "collapsed": false
   },
   "outputs": [],
   "source": [
    "# Mathematical operations - apply mathematics to all elements in the array at once\n",
    "reactions_in_seconds = reactions_np / 1000.0\n",
    "\n",
    "reactions_in_seconds"
   ]
  },
  {
   "cell_type": "markdown",
   "metadata": {},
   "source": [
    "## Basic Plotting\n",
    "\n",
    " * Basic line and scatter plots can be created using the *plot* function from the *pylab* package\n",
    " * if only one array is given, matplotlib assumes the index as x-axis"
   ]
  },
  {
   "cell_type": "code",
   "execution_count": null,
   "metadata": {
    "collapsed": false
   },
   "outputs": [],
   "source": [
    "plt.plot(reactions_np)\n",
    "plt.xlabel('Participant')\n",
    "plt.ylabel('Reaction time (ms)')"
   ]
  },
  {
   "cell_type": "markdown",
   "metadata": {},
   "source": [
    "For this sort of data, a summary plot might be more useful, such as a histogram or a boxplot:"
   ]
  },
  {
   "cell_type": "code",
   "execution_count": null,
   "metadata": {
    "collapsed": false
   },
   "outputs": [],
   "source": [
    "plt.boxplot(reactions_np);\n",
    "plt.ylabel('Reaction time (ms)')\n",
    "plt.ylim(0, reactions_np.max() + 100)"
   ]
  },
  {
   "cell_type": "code",
   "execution_count": null,
   "metadata": {
    "collapsed": false,
    "scrolled": false
   },
   "outputs": [],
   "source": [
    "plt.hist(reactions_np, orientation='horizontal');\n",
    "plt.xlabel('Reaction time (ms)')\n",
    "plt.ylabel('Frequency')"
   ]
  },
  {
   "cell_type": "markdown",
   "metadata": {},
   "source": [
    "To set multiple attributes, use the `set` method\n"
   ]
  },
  {
   "cell_type": "code",
   "execution_count": null,
   "metadata": {
    "collapsed": false
   },
   "outputs": [],
   "source": [
    "plt.plot(reactions_np, 'ro', label='reaction times')\n",
    "plt.gca().set(xlim = [0,15], ylim = [0,1000], xlabel = 'subjects', ylabel = 'time/ms')\n",
    "plt.legend();"
   ]
  },
  {
   "cell_type": "markdown",
   "metadata": {},
   "source": [
    "Note the `;` at the end of the plot statement above: it stops the statement from returning and so the `[<matplotlib.lines.Line2D at 0xb64b0b8>]` is not displayed."
   ]
  },
  {
   "cell_type": "code",
   "execution_count": null,
   "metadata": {
    "collapsed": false
   },
   "outputs": [],
   "source": [
    "help(plt.plot)"
   ]
  },
  {
   "cell_type": "markdown",
   "metadata": {},
   "source": [
    " * Other useful functions (see below)\n",
    " * Try it out!"
   ]
  },
  {
   "cell_type": "markdown",
   "metadata": {},
   "source": [
    "## Plotting a function\n",
    "\n",
    " * Let’s say you want to plot the function (in the math sense) $f (x) = 2x^2 + 3$ for $x$ in the range $[−3, 3]$. How would you do it?"
   ]
  },
  {
   "cell_type": "code",
   "execution_count": null,
   "metadata": {
    "collapsed": false
   },
   "outputs": [],
   "source": [
    "# Define a Python function that computes the function value\n",
    "def f(x):\n",
    "    return 2*x**2 + 3\n",
    "\n",
    "plt.plot([-3, 0, 3], [f(-3), f(0), f(3)]);"
   ]
  },
  {
   "cell_type": "code",
   "execution_count": null,
   "metadata": {
    "collapsed": false
   },
   "outputs": [],
   "source": [
    "x = np.arange(-10,11)\n",
    "plt.plot(x,[f(i) for i in x])"
   ]
  },
  {
   "cell_type": "markdown",
   "metadata": {},
   "source": [
    " * Wouldn’t it be nice if we could just write `plt.plot(x,2*x**2)`?"
   ]
  },
  {
   "cell_type": "code",
   "execution_count": null,
   "metadata": {
    "collapsed": false
   },
   "outputs": [],
   "source": [
    "plt.plot(x, 2*x**2 + 3);"
   ]
  },
  {
   "cell_type": "markdown",
   "metadata": {},
   "source": [
    " * Oh, wait, we can!\n",
    " * What is going on? The magic here is that `arange` and `linspace` does not return a list like `range`, but a `numpy.ndarray`.\n",
    " * If we try it with a list, it doesn’t work"
   ]
  },
  {
   "cell_type": "code",
   "execution_count": null,
   "metadata": {
    "collapsed": false,
    "scrolled": true
   },
   "outputs": [],
   "source": [
    "xs = range(-3,4)\n",
    "plt.plot(xs, 2*xs**2 + 3)"
   ]
  },
  {
   "cell_type": "markdown",
   "metadata": {},
   "source": [
    "## The *ndarray* type"
   ]
  },
  {
   "cell_type": "markdown",
   "metadata": {},
   "source": [
    " * The *numpy.ndarray* type represents a multidimensional, homogeneous array of fixed-size items\n",
    " * You can think of this as a table, where each cell is of the same type and is indexed by a tuple of integer indices\n",
    " * Vectors (1-D) and matrices (2-D) are the most common examples, but higher-dimensional arrays are also often useful\n",
    " * For example, you can represent a video as a 4-D array (x, y, frame, channel)"
   ]
  },
  {
   "cell_type": "markdown",
   "metadata": {},
   "source": [
    " * A 1-D ndarray is similar to a list of numbers\n",
    " * However it makes it very easy to apply the same (mathematical) operation to all elements in the array\n",
    " * They also make it very easy to compute aggregates, like sums, means, products, sum-products, etc."
   ]
  },
  {
   "cell_type": "code",
   "execution_count": null,
   "metadata": {
    "collapsed": false
   },
   "outputs": [],
   "source": [
    "r = np.arange(1,4,1)\n",
    "print \"r=\", r\n",
    "print 3*r + 2\n",
    "print np.sqrt(r)\n",
    "\n",
    "print np.sum(r)\n",
    "print np.mean(r)\n",
    "print np.prod(r)"
   ]
  },
  {
   "cell_type": "markdown",
   "metadata": {},
   "source": [
    " * *ndarray* objects have two important attributes:\n",
    "  * The *data type* (*dtype*) of the objects in the cells\n",
    "  * The *shape* of the array, describing the dimensionality and the size of the individual dimensions"
   ]
  },
  {
   "cell_type": "code",
   "execution_count": null,
   "metadata": {
    "collapsed": false,
    "scrolled": true
   },
   "outputs": [],
   "source": [
    "a = np.zeros(shape = (3, 5), dtype = np.int64)\n",
    "\n",
    "print \"a=\", a\n",
    "print type(a)\n",
    "\n",
    "print a.dtype\n",
    "print a.shape"
   ]
  },
  {
   "cell_type": "markdown",
   "metadata": {},
   "source": [
    "As an example, we will use the following 3-D array. Note the order of specifying the shape, i.e. row major."
   ]
  },
  {
   "cell_type": "code",
   "execution_count": null,
   "metadata": {
    "collapsed": false,
    "scrolled": true
   },
   "outputs": [],
   "source": [
    "tensor = np.reshape(range(24),(2,3,4))\n",
    "print tensor"
   ]
  },
  {
   "cell_type": "markdown",
   "metadata": {},
   "source": [
    "### Accessing Elements\n",
    "\n",
    " * Access to the individual elements is done using the familiar\n",
    "[] syntax\n",
    " * assign values to individual elements\n",
    " \n",
    "#### Standard indexing"
   ]
  },
  {
   "cell_type": "code",
   "execution_count": null,
   "metadata": {
    "collapsed": false
   },
   "outputs": [],
   "source": [
    "print tensor[0,1,2]"
   ]
  },
  {
   "cell_type": "code",
   "execution_count": null,
   "metadata": {
    "collapsed": false
   },
   "outputs": [],
   "source": [
    "print tensor[0,1]"
   ]
  },
  {
   "cell_type": "code",
   "execution_count": null,
   "metadata": {
    "collapsed": false
   },
   "outputs": [],
   "source": [
    "print tensor[0:2,1:2,2:-1]"
   ]
  },
  {
   "cell_type": "markdown",
   "metadata": {},
   "source": [
    "#### newaxis"
   ]
  },
  {
   "cell_type": "code",
   "execution_count": null,
   "metadata": {
    "collapsed": false,
    "scrolled": true
   },
   "outputs": [],
   "source": [
    "print tensor.shape\n",
    "tensor[:,np.newaxis,:,:].shape"
   ]
  },
  {
   "cell_type": "markdown",
   "metadata": {},
   "source": [
    "#### Advanced Indexing\n",
    "\n",
    "* integer indexing\n",
    "triggered when selection object (inside `[]`) is non-tuple\n",
    "\n",
    "`result[i_1, ..., i_M] == x[ind_1[i_1, ..., i_M], ind_2[i_1, ..., i_M],\n",
    "                           ..., ind_N[i_1, ..., i_M]]`"
   ]
  },
  {
   "cell_type": "code",
   "execution_count": null,
   "metadata": {
    "collapsed": false
   },
   "outputs": [],
   "source": [
    "tensor[[0,1,0],[1,1,0],[1,2,3]]"
   ]
  },
  {
   "cell_type": "markdown",
   "metadata": {},
   "source": [
    "* Boolean indexing"
   ]
  },
  {
   "cell_type": "code",
   "execution_count": null,
   "metadata": {
    "collapsed": false
   },
   "outputs": [],
   "source": [
    "print tensor > 10\n",
    "idx_gt_10 = (tensor>10).nonzero()\n",
    "print idx_gt_10"
   ]
  },
  {
   "cell_type": "code",
   "execution_count": null,
   "metadata": {
    "collapsed": false
   },
   "outputs": [],
   "source": [
    "print tensor[idx_gt_10]\n",
    "print tensor[tensor>10]"
   ]
  },
  {
   "cell_type": "markdown",
   "metadata": {},
   "source": [
    "## Data types\n",
    "\n",
    " * Numpy provides a range of data types\n",
    "  * floating point data types: `float32`, `float64`\n",
    "  * integer data types: `int64`, `int32`, . . . , `uint8`\n",
    "  * object data type: object – any Python object\n",
    " * Unless you are sure you need something else, use `float64`. This is the default data type in numpy.\n",
    " * Exceptions to this rule:\n",
    "  * use `int32`, `int64` when you need to store (large) integers (e.g. counts)\n",
    "  * use objects when you need to store other Python objects (dicts, lists, etc.)"
   ]
  },
  {
   "cell_type": "markdown",
   "metadata": {},
   "source": [
    "### Creating arrays"
   ]
  },
  {
   "cell_type": "markdown",
   "metadata": {},
   "source": [
    " * Arrays can be created in various ways:\n",
    "  * from (nested) list objects (using *array*) by creating an empty array and then assigning values (using *empty*/*zeros*) - 1D, 2D\n",
    "  * using built-in functions for special arrays (*ones*, *eye*, *rand*, *randn*, . . . )"
   ]
  },
  {
   "cell_type": "code",
   "execution_count": null,
   "metadata": {
    "collapsed": false
   },
   "outputs": [],
   "source": [
    "a=np.array([3,2,1,2])\n",
    "a"
   ]
  },
  {
   "cell_type": "code",
   "execution_count": null,
   "metadata": {
    "collapsed": false
   },
   "outputs": [],
   "source": [
    "b=np.array([2.0,4.1,3.14])\n",
    "b"
   ]
  },
  {
   "cell_type": "markdown",
   "metadata": {},
   "source": [
    " * Note that numpy tries to guess the data type:"
   ]
  },
  {
   "cell_type": "code",
   "execution_count": null,
   "metadata": {
    "collapsed": false
   },
   "outputs": [],
   "source": [
    "print(a.dtype)\n",
    "print(b.dtype)"
   ]
  },
  {
   "cell_type": "markdown",
   "metadata": {},
   "source": [
    " * We can force a particular data type by providing a dtype"
   ]
  },
  {
   "cell_type": "code",
   "execution_count": null,
   "metadata": {
    "collapsed": false,
    "scrolled": true
   },
   "outputs": [],
   "source": [
    "a = np.array([3,2,1,2], dtype=np.float64)\n",
    "print(a.dtype)\n",
    "print(a)"
   ]
  },
  {
   "cell_type": "markdown",
   "metadata": {},
   "source": []
  },
  {
   "cell_type": "markdown",
   "metadata": {},
   "source": [
    "### Creating special arrays\n",
    "\n",
    " * Numpy provides various functions for creating useful special arrays. The most common ones are:\n",
    "  * `zeros` – create an array filled with zeros\n",
    "  * `ones` – create an array filled with ones\n",
    "  * `empty` – create an array, but don’t initialize it’s elements.\n",
    "  * `arange` – similar to range\n",
    "  * `eye` – identity matrix of a given size\n",
    "  * `random.rand`, `random.randn` – random arrays (uniform, normal)"
   ]
  },
  {
   "cell_type": "code",
   "execution_count": null,
   "metadata": {
    "collapsed": false
   },
   "outputs": [],
   "source": [
    "np.zeros((2,3))"
   ]
  },
  {
   "cell_type": "code",
   "execution_count": null,
   "metadata": {
    "collapsed": false
   },
   "outputs": [],
   "source": [
    "np.ones((2,3), dtype=np.int32)"
   ]
  },
  {
   "cell_type": "code",
   "execution_count": null,
   "metadata": {
    "collapsed": false
   },
   "outputs": [],
   "source": [
    "np.empty((2,3))"
   ]
  },
  {
   "cell_type": "code",
   "execution_count": null,
   "metadata": {
    "collapsed": false
   },
   "outputs": [],
   "source": [
    "np.arange(5,10)"
   ]
  },
  {
   "cell_type": "code",
   "execution_count": null,
   "metadata": {
    "collapsed": false
   },
   "outputs": [],
   "source": [
    "np.eye(2)"
   ]
  },
  {
   "cell_type": "code",
   "execution_count": null,
   "metadata": {
    "collapsed": false
   },
   "outputs": [],
   "source": [
    "np.random.rand(2,3)"
   ]
  },
  {
   "cell_type": "code",
   "execution_count": null,
   "metadata": {
    "collapsed": false
   },
   "outputs": [],
   "source": [
    "np.random.randn(2,3)"
   ]
  },
  {
   "cell_type": "code",
   "execution_count": null,
   "metadata": {
    "collapsed": false
   },
   "outputs": [],
   "source": [
    "plt.hist(np.random.randn(10000));"
   ]
  },
  {
   "cell_type": "code",
   "execution_count": null,
   "metadata": {
    "collapsed": false
   },
   "outputs": [],
   "source": [
    "plt.hist(np.random.rand(100000));"
   ]
  },
  {
   "cell_type": "markdown",
   "metadata": {},
   "source": [
    "### Elementwise operations\n",
    "\n",
    " * Numpy contains many standard mathematical functions that operate elementwise on arrays\n",
    " * These are called universal functions (ufuncs)\n",
    " * Included are things like *add*, *multiply*, *log*, *exp*, *sin*, . . .\n",
    " * See http://docs.scipy.org/doc/numpy/reference/ufuncs.html\n",
    " * These are very fast (in constrast to doing the same by loops)"
   ]
  },
  {
   "cell_type": "markdown",
   "metadata": {},
   "source": [
    "### Accessing Subarrays – Boolean indexing\n",
    "\n",
    "* Comparison operatorions on arrays return boolean arrays of the same size"
   ]
  },
  {
   "cell_type": "code",
   "execution_count": null,
   "metadata": {
    "collapsed": false
   },
   "outputs": [],
   "source": [
    "a = np.ones((2,2))*2\n",
    "a"
   ]
  },
  {
   "cell_type": "code",
   "execution_count": null,
   "metadata": {
    "collapsed": false
   },
   "outputs": [],
   "source": [
    "np.add(a,a)"
   ]
  },
  {
   "cell_type": "code",
   "execution_count": null,
   "metadata": {
    "collapsed": false
   },
   "outputs": [],
   "source": [
    "a * a"
   ]
  },
  {
   "cell_type": "code",
   "execution_count": null,
   "metadata": {
    "collapsed": false
   },
   "outputs": [],
   "source": [
    "np.log(a)"
   ]
  },
  {
   "cell_type": "markdown",
   "metadata": {},
   "source": [
    "### Broadcasting\n",
    "\n",
    " * Broadcasting is how numpy handles operations between arrays of different, but compatible shapes\n",
    " * For example, you might want to add a column vector to all columns of a matrix"
   ]
  },
  {
   "cell_type": "code",
   "execution_count": null,
   "metadata": {
    "collapsed": false
   },
   "outputs": [],
   "source": [
    "a = np.ones((2,2))\n",
    "b = 2*np.ones((2,1))\n",
    "print \"a=\\n\", a\n",
    "print \"b=\\n\", b"
   ]
  },
  {
   "cell_type": "code",
   "execution_count": null,
   "metadata": {
    "collapsed": false
   },
   "outputs": [],
   "source": [
    "print a + b"
   ]
  },
  {
   "cell_type": "code",
   "execution_count": null,
   "metadata": {
    "collapsed": false
   },
   "outputs": [],
   "source": [
    "a = np.ones((3,2))\n",
    "b = np.array([4,5])\n",
    "print \"a:\", a.shape\n",
    "print a\n",
    "print \"b:\", b.shape\n",
    "print b"
   ]
  },
  {
   "cell_type": "code",
   "execution_count": null,
   "metadata": {
    "collapsed": false
   },
   "outputs": [],
   "source": [
    "print a+b"
   ]
  },
  {
   "cell_type": "code",
   "execution_count": null,
   "metadata": {
    "collapsed": false
   },
   "outputs": [],
   "source": [
    "print a* b"
   ]
  },
  {
   "cell_type": "markdown",
   "metadata": {},
   "source": [
    " ###  reductions of an array:  `sum`, `prod`, `mean`, `cumsum`"
   ]
  },
  {
   "cell_type": "code",
   "execution_count": null,
   "metadata": {
    "collapsed": false
   },
   "outputs": [],
   "source": [
    "np.sum(a)"
   ]
  },
  {
   "cell_type": "code",
   "execution_count": null,
   "metadata": {
    "collapsed": false
   },
   "outputs": [],
   "source": [
    "np.prod(a)"
   ]
  },
  {
   "cell_type": "code",
   "execution_count": null,
   "metadata": {
    "collapsed": false
   },
   "outputs": [],
   "source": [
    "np.mean(a)"
   ]
  },
  {
   "cell_type": "code",
   "execution_count": null,
   "metadata": {
    "collapsed": false
   },
   "outputs": [],
   "source": [
    "np.mean(a,0)"
   ]
  },
  {
   "cell_type": "code",
   "execution_count": null,
   "metadata": {
    "collapsed": false
   },
   "outputs": [],
   "source": [
    "np.cumsum(a)"
   ]
  },
  {
   "cell_type": "markdown",
   "metadata": {},
   "source": [
    "An useful combination of reduction and broadcast is data normalisation. Suppose we have 5 16-by 16 images, and we would like to mean-subtract each image i.e. subtract from each image the mean of the respective image, not the mean over all pixles and images"
   ]
  },
  {
   "cell_type": "code",
   "execution_count": null,
   "metadata": {
    "collapsed": false
   },
   "outputs": [],
   "source": [
    "images = np.random.rand(5,16,16) # dimensions not specified by tuples!\n",
    "image_mean = images.mean((1,2), keepdims = True)\n",
    "print image_mean\n",
    "images_demeaned = images - image_mean\n",
    "print images_demeaned.mean((1,2))"
   ]
  },
  {
   "cell_type": "markdown",
   "metadata": {},
   "source": [
    " * See http://docs.scipy.org/doc/numpy/reference/arrays.ndarray.html#calculation"
   ]
  },
  {
   "cell_type": "markdown",
   "metadata": {},
   "source": [
    "### Vector/Matrix operations\n",
    "\n",
    "* Many algorithms in scientific computing can be cast in a form that makes use of only a few linear algebra primitves.\n",
    "* Probably the most common such primitives are the **dot-product** between vectors, matrix-vector products, as well as **matrix-matrix products**.\n",
    "* The product between a matrix $A$ of size $M \\times N$ and a matrix\n",
    "$B$ of size $N \\times K$, written as $\\langle A, B \\rangle$ or just $AB$ is defined as\n",
    "$$(AB)_{ij} :=\\sum_k A_{ik} B_{kj}$$"
   ]
  },
  {
   "cell_type": "markdown",
   "metadata": {},
   "source": [
    " * Numpy uses a single functions for all these operations: **`dot`**, both for arrays and matrices:"
   ]
  },
  {
   "cell_type": "code",
   "execution_count": null,
   "metadata": {
    "collapsed": false
   },
   "outputs": [],
   "source": [
    "a = np.ones(2)*3\n",
    "a"
   ]
  },
  {
   "cell_type": "code",
   "execution_count": null,
   "metadata": {
    "collapsed": false
   },
   "outputs": [],
   "source": [
    "b = np.array([[1,2]]).T\n",
    "b"
   ]
  },
  {
   "cell_type": "code",
   "execution_count": null,
   "metadata": {
    "collapsed": false
   },
   "outputs": [],
   "source": [
    "A = np.random.rand(2,2)\n",
    "A"
   ]
  },
  {
   "cell_type": "code",
   "execution_count": null,
   "metadata": {
    "collapsed": false
   },
   "outputs": [],
   "source": [
    "np.dot(a,A)"
   ]
  },
  {
   "cell_type": "code",
   "execution_count": null,
   "metadata": {
    "collapsed": false
   },
   "outputs": [],
   "source": [
    "np.dot(A,b)"
   ]
  },
  {
   "cell_type": "code",
   "execution_count": null,
   "metadata": {
    "collapsed": false
   },
   "outputs": [],
   "source": [
    "np.dot(b.T,a)"
   ]
  },
  {
   "cell_type": "markdown",
   "metadata": {},
   "source": [
    "### `numpy.linalg` \n",
    "It contains many linear algebra functions including SVD, QR decomp, inversion, least squares, etc.\n",
    "http://docs.scipy.org/doc/numpy/reference/routines.linalg.html"
   ]
  },
  {
   "cell_type": "code",
   "execution_count": null,
   "metadata": {
    "collapsed": false
   },
   "outputs": [],
   "source": [
    "print A\n",
    "print A**2\n",
    "print np.linalg.matrix_power(A,2)"
   ]
  },
  {
   "cell_type": "markdown",
   "metadata": {},
   "source": [
    "### histograms in 2D\n",
    "\n",
    "create random x and y values; plot `hist2d`; plot a `colorbar`"
   ]
  },
  {
   "cell_type": "code",
   "execution_count": null,
   "metadata": {
    "collapsed": false,
    "scrolled": true
   },
   "outputs": [],
   "source": [
    "y = np.random.randn(1000)\n",
    "x = np.random.randn(len(y))\n",
    "\n",
    "plt.hist2d(x,y)\n",
    "plt.colorbar()"
   ]
  },
  {
   "cell_type": "markdown",
   "metadata": {},
   "source": [
    "### pie charts"
   ]
  },
  {
   "cell_type": "code",
   "execution_count": null,
   "metadata": {
    "collapsed": false
   },
   "outputs": [],
   "source": [
    "time_spent = [4, 10, 7, 1, 0.5]\n",
    "time_labels = ['work','coffee','commute','email','food']\n",
    "plt.pie(time_spent, labels=time_labels);"
   ]
  },
  {
   "cell_type": "markdown",
   "metadata": {},
   "source": [
    "## Subplots"
   ]
  },
  {
   "cell_type": "markdown",
   "metadata": {},
   "source": [
    "According to this structure, to plot:\n",
    "\n",
    "1. generate new figure with pyplot\n",
    "2. add `Axes`, e.g. with `add_subplot`\n",
    "3. draw onto the `Axes`, e.g. `ax.plot()`\n",
    "4. specify properties with `axes.set_*` or `axes.set(attr_name = attr_value)`\n",
    "\n"
   ]
  },
  {
   "cell_type": "code",
   "execution_count": null,
   "metadata": {
    "collapsed": false
   },
   "outputs": [],
   "source": [
    "fig = plt.figure()\n",
    "\n",
    "ax1 = fig.add_subplot(211)\n",
    "\n",
    "y = np.random.normal(size=1000)\n",
    "type(y)\n",
    "y = y[y > 0]\n",
    "y.sort()\n",
    "\n",
    "ax1.plot(y)\n",
    "ax1.set_ylabel(\"linear\")\n",
    "\n",
    "ax2 = fig.add_subplot(212)\n",
    "\n",
    "ax2.plot(y)\n",
    "ax2.set_ylabel('log')\n",
    "ax2.set_yscale(\"log\")\n",
    "\n",
    "#fig.savefig(\"linearlog_figure.eps\")"
   ]
  },
  {
   "cell_type": "code",
   "execution_count": null,
   "metadata": {
    "collapsed": false
   },
   "outputs": [],
   "source": [
    "fig, axes = plt.subplots(1,2, figsize = (6, 3))\n",
    "\n",
    "\n",
    "y = np.random.normal(size=500)\n",
    "type(y)\n",
    "y = y[y > 0]\n",
    "y.sort()\n",
    "\n",
    "ax1 = axes[0]\n",
    "ax1.plot(y)\n",
    "ax1.set(xlabel = 'sample', ylabel = 'linear')\n",
    "\n",
    "ax2 = axes[1]\n",
    "ax2.plot(y)\n",
    "ax2.set(xlabel = 'sample', ylabel = 'log', yscale = 'log')\n",
    "\n",
    "fig.tight_layout()\n",
    "fig.savefig(\"linearlog_figure.pdf\")"
   ]
  },
  {
   "cell_type": "markdown",
   "metadata": {},
   "source": [
    "## Plotting in 3D"
   ]
  },
  {
   "cell_type": "markdown",
   "metadata": {},
   "source": [
    "there's a toolkit in matplotlib for 3D plotting: `mpl_toolkits.mplot3d`. from here import `Axes3D`\n",
    "\n",
    "make up random numbers\n",
    "\n",
    "plot a figure, add axes. For 3D rendering, the projection has to be `3d`"
   ]
  },
  {
   "cell_type": "code",
   "execution_count": null,
   "metadata": {
    "collapsed": false,
    "scrolled": true
   },
   "outputs": [],
   "source": [
    "from mpl_toolkits.mplot3d import Axes3D\n",
    "\n",
    "x = np.random.normal(size=30)\n",
    "y = np.random.normal(size=len(x))\n",
    "z = np.random.normal(size=len(x))\n",
    "\n",
    "fig = plt.figure()\n",
    "ax = fig.add_subplot(111, projection='3d')\n",
    "ax.plot(x,y,z, 'ro')"
   ]
  },
  {
   "cell_type": "markdown",
   "metadata": {},
   "source": [
    "## Scipy Overview\n",
    "\n",
    "* SciPy is large collection of (sub-)packages that contains a variety of functions that are useful for scientific computing\n",
    "* Impossible to cover all, check out the documentation and examples at http://wiki.scipy.org/Cookbook\n",
    "* In particular, there are functions for\n",
    "  * Special functions (scipy.special)\n",
    "  * Integration (scipy.integrate)\n",
    "  * Optimization (scipy.optimize)\n",
    "  * Interpolation (scipy.interpolate)\n",
    "  * Fourier Transforms (scipy.fftpack)\n",
    "  * Signal Processing (scipy.signal)\n",
    "  * Linear Algebra (scipy.linalg)\n",
    "  * Statistics (scipy.stats)\n",
    "  * Multi-dimensional image processing (scipy.ndimage)\n",
    "\n"
   ]
  },
  {
   "cell_type": "markdown",
   "metadata": {},
   "source": [
    "## Scikit Learn\n",
    "http://scikit-learn.org/stable/\n",
    "\n",
    "* Simple and efficient tools for data mining and data analysis\n",
    "* Accessible to everybody, and reusable in various contexts\n",
    "* Built on NumPy, SciPy, and matplotlib\n",
    "* Open source, commercially usable - BSD license"
   ]
  },
  {
   "cell_type": "code",
   "execution_count": null,
   "metadata": {
    "collapsed": true
   },
   "outputs": [],
   "source": []
  }
 ],
 "metadata": {
  "kernelspec": {
   "display_name": "Python 2",
   "language": "python",
   "name": "python2"
  },
  "language_info": {
   "codemirror_mode": {
    "name": "ipython",
    "version": 2
   },
   "file_extension": ".py",
   "mimetype": "text/x-python",
   "name": "python",
   "nbconvert_exporter": "python",
   "pygments_lexer": "ipython2",
   "version": "2.7.11"
  }
 },
 "nbformat": 4,
 "nbformat_minor": 0
}
