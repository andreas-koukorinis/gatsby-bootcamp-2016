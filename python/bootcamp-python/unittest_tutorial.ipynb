{
 "cells": [
  {
   "cell_type": "markdown",
   "metadata": {},
   "source": [
    "### SWC/Gatsby Boot Camp Python tutorial \n",
    "#### unittest modul\n",
    "\n",
    "Why should we do testing?\n",
    "\n",
    "*  Make sure our code behave properly under different conditions \n",
    "    (`5/2` vs `5.0/2`, `log(0)`, `1/0`)\n",
    "\n",
    "*  Regression testing: use bugs found in the past to make sure the\n",
    "    current version do no reproduce the same bug\n",
    "\n",
    "*  Before shipping/publishing the code, a prepared test suite will \n",
    "    let the user know if the package they downloaded behave the same \n",
    "    way you expected it to. \n",
    "\n",
    "Basic usage:\n",
    "\n",
    "1.  Define a class derived from unittest\n",
    "2.  Fill the class with functions that start with test_\n",
    "3.  You run the tests by placing unittest.main() in your file\n",
    "\n",
    "See the unittest_tutorial.py file for basic usage. "
   ]
  },
  {
   "cell_type": "markdown",
   "metadata": {},
   "source": [
    "Let's first run the .py file "
   ]
  },
  {
   "cell_type": "code",
   "execution_count": null,
   "metadata": {
    "collapsed": false
   },
   "outputs": [],
   "source": [
    "! type unittest_tutorial.py"
   ]
  },
  {
   "cell_type": "code",
   "execution_count": null,
   "metadata": {
    "collapsed": false
   },
   "outputs": [],
   "source": [
    "! python -m unittest unittest_tutorial"
   ]
  },
  {
   "cell_type": "markdown",
   "metadata": {},
   "source": [
    "### Let's try a more realistic test scenario\n",
    "Let's define a class called `supstr` derived from `str` with some fancy methods, and then test it using `unittest`\n",
    "\n",
    "First, copy the original tests for methods of `str` as we don't want our `supstr` class to harm `str` (which won't happen in this case, but let's presume that you wrote `str` class yourself and also wrote the test cases below already)"
   ]
  },
  {
   "cell_type": "code",
   "execution_count": null,
   "metadata": {
    "collapsed": false
   },
   "outputs": [],
   "source": [
    "import unittest\n",
    "\n",
    "# 1.  Define a class derived from unittest\n",
    "class TestStringMethods(unittest.TestCase):\n",
    "\n",
    "# 2.  Fill the class with functions that start with test_\n",
    "    def test_upper(self):\n",
    "        self.assertEqual('foo'.upper(), 'FOO')\n",
    "\n",
    "    def test_isupper(self):\n",
    "        self.assertTrue('FOO'.isupper())\n",
    "        self.assertFalse('Foo'.isupper())\n",
    "\n",
    "    def test_split(self):\n",
    "        s = 'hello world'\n",
    "        self.assertEqual(s.split(), ['hello', 'world'])\n",
    "        # check that s.split fails when the separator is not a string\n",
    "        with self.assertRaises(TypeError):\n",
    "            s.split(2)\n",
    "# 3.  You run the tests by placing unittest.main() in your file"
   ]
  },
  {
   "cell_type": "markdown",
   "metadata": {},
   "source": [
    "Second, just define `supstr` that just inherits from `str`"
   ]
  },
  {
   "cell_type": "code",
   "execution_count": null,
   "metadata": {
    "collapsed": true
   },
   "outputs": [],
   "source": [
    "class supstr(str):\n",
    "    pass"
   ]
  },
  {
   "cell_type": "markdown",
   "metadata": {},
   "source": [
    "Define test classes on `supstr`. Note that since we would like to test `supstr`, we have to create it in our test cases. This can be done using `setUp` which is a method that is run before any tests were taken. This is used to set up some variable or open files that are used for the test cases. \n",
    "\n",
    "At the end of the test, we can use `tearDown` to undo any changes to the system which can include closing files or connections. "
   ]
  },
  {
   "cell_type": "code",
   "execution_count": null,
   "metadata": {
    "collapsed": false
   },
   "outputs": [],
   "source": [
    "class TestSupStringMethods(unittest.TestCase):\n",
    "\n",
    "    def setUp(self):\n",
    "        self.ss = supstr('superstring')\n",
    "\n",
    "    def test_upper(self):\n",
    "        self.assertEqual(self.ss.upper(), 'SUPERSTRING') \n",
    "\n",
    "    def tearDown(self):\n",
    "        del self.ss\n"
   ]
  },
  {
   "cell_type": "markdown",
   "metadata": {},
   "source": [
    "The code below shows a more elaborate way of running a test with finer control using `TestLoader` and `TestSuite`"
   ]
  },
  {
   "cell_type": "code",
   "execution_count": null,
   "metadata": {
    "collapsed": true
   },
   "outputs": [],
   "source": [
    "# define a loader object\n",
    "loader = unittest.TestLoader()\n",
    "# define a suite object that is going to hold all tests\n",
    "suite = unittest.TestSuite()"
   ]
  },
  {
   "cell_type": "markdown",
   "metadata": {},
   "source": [
    "The following line takes a test class and returns a test suite object"
   ]
  },
  {
   "cell_type": "code",
   "execution_count": null,
   "metadata": {
    "collapsed": true
   },
   "outputs": [],
   "source": [
    "suite = loader.loadTestsFromTestCase(TestStringMethods)"
   ]
  },
  {
   "cell_type": "markdown",
   "metadata": {},
   "source": [
    "We can add tests by addTests"
   ]
  },
  {
   "cell_type": "code",
   "execution_count": null,
   "metadata": {
    "collapsed": false,
    "scrolled": true
   },
   "outputs": [],
   "source": [
    "suite.addTests(loader.loadTestsFromTestCase(TestSupStringMethods))\n",
    "unittest.TextTestRunner(verbosity=2).run(suite)"
   ]
  },
  {
   "cell_type": "code",
   "execution_count": null,
   "metadata": {
    "collapsed": false
   },
   "outputs": [],
   "source": [
    "class supstr(str):\n",
    "    def __div__(self, s):\n",
    "        return self.count(s)"
   ]
  },
  {
   "cell_type": "markdown",
   "metadata": {},
   "source": [
    "Now we could have written a test suite (class) that contains multiple data, but we can also add a function as a test case into the suite"
   ]
  },
  {
   "cell_type": "code",
   "execution_count": null,
   "metadata": {
    "collapsed": false
   },
   "outputs": [],
   "source": [
    "def testSupStrDivide():\n",
    "    ss1 = supstr('baaaa')\n",
    "    ss2 = supstr('aa')\n",
    "    assert ss1/ss2 == 3\n",
    "    \n",
    "testcase = unittest.FunctionTestCase(testSupStrDivide)\n",
    "\n",
    "suite.addTest(testcase)"
   ]
  },
  {
   "cell_type": "code",
   "execution_count": null,
   "metadata": {
    "collapsed": false,
    "scrolled": true
   },
   "outputs": [],
   "source": [
    "unittest.TextTestRunner(verbosity=2).run(suite)"
   ]
  },
  {
   "cell_type": "markdown",
   "metadata": {},
   "source": [
    "As expected, there is an error... turns out that `str.count()` does not deal with overlapping sequences. Let's not be so lazy and do it the hard way"
   ]
  },
  {
   "cell_type": "code",
   "execution_count": null,
   "metadata": {
    "collapsed": false
   },
   "outputs": [],
   "source": [
    "class supstr(str):\n",
    "    def __div__(self, s):\n",
    "        finished = False\n",
    "        start = 0\n",
    "        count = 0\n",
    "        while not finished:\n",
    "            idx = self.find(s, start)\n",
    "            if idx == -1:\n",
    "                finished = True\n",
    "            else:\n",
    "                count += 1\n",
    "                start = idx + 1\n",
    "        return count"
   ]
  },
  {
   "cell_type": "markdown",
   "metadata": {},
   "source": [
    "Now run the same test again"
   ]
  },
  {
   "cell_type": "code",
   "execution_count": null,
   "metadata": {
    "collapsed": false
   },
   "outputs": [],
   "source": [
    "unittest.TextTestRunner(verbosity=2).run(suite)"
   ]
  },
  {
   "cell_type": "markdown",
   "metadata": {},
   "source": [
    "## Discover test cases\n",
    "\n",
    "In real development, you are probably writing many test files (classes) all over the place in the directory. The `unittest.TestLoader.discovery()` function can be used to find all test files (test*.py) and return a test suite. This can also be achieved by the command line\n",
    "\n",
    "    cd project_directory\n",
    "    python -m unittest discover\n",
    "    \n",
    "for more details, see https://docs.python.org/2/library/unittest.html#test-discovery"
   ]
  },
  {
   "cell_type": "code",
   "execution_count": null,
   "metadata": {
    "collapsed": true
   },
   "outputs": [],
   "source": []
  }
 ],
 "metadata": {
  "kernelspec": {
   "display_name": "Python 2",
   "language": "python",
   "name": "python2"
  },
  "language_info": {
   "codemirror_mode": {
    "name": "ipython",
    "version": 2
   },
   "file_extension": ".py",
   "mimetype": "text/x-python",
   "name": "python",
   "nbconvert_exporter": "python",
   "pygments_lexer": "ipython2",
   "version": "2.7.11"
  }
 },
 "nbformat": 4,
 "nbformat_minor": 0
}
