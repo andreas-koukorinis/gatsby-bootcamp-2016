{
 "cells": [
  {
   "cell_type": "markdown",
   "metadata": {},
   "source": [
    "We use **def** to define a function, and **return** to pass back a value:"
   ]
  },
  {
   "cell_type": "code",
   "execution_count": 3,
   "metadata": {
    "collapsed": true
   },
   "outputs": [],
   "source": [
    "def double(x):\n",
    "    print 'x= ', x\n",
    "    return x*2"
   ]
  },
  {
   "cell_type": "code",
   "execution_count": 6,
   "metadata": {
    "collapsed": false
   },
   "outputs": [
    {
     "name": "stdout",
     "output_type": "stream",
     "text": [
      "x=  2\n",
      "4\n",
      "x=  a\n",
      "aa\n",
      "x=  [1, 2, 3]\n",
      "[1, 2, 3, 1, 2, 3]\n"
     ]
    }
   ],
   "source": [
    "print double(2)\n",
    "print double('a')\n",
    "print double([1,2,3])"
   ]
  },
  {
   "cell_type": "markdown",
   "metadata": {},
   "source": [
    " * We can specify **default values** for parameters.\n",
    " * If there ar both parameters with and parameters without default values, **the parameters with default values are always the last ones**. \n",
    " * If there are multiple parameters with default values,you can specify any number of them when calling the function."
   ]
  },
  {
   "cell_type": "code",
   "execution_count": 7,
   "metadata": {
    "collapsed": true
   },
   "outputs": [],
   "source": [
    "def jeeves(name = \"Sir\"):\n",
    "    return \"Very good, \"+ name"
   ]
  },
  {
   "cell_type": "code",
   "execution_count": 9,
   "metadata": {
    "collapsed": false
   },
   "outputs": [
    {
     "name": "stdout",
     "output_type": "stream",
     "text": [
      "Very good, Sir\n",
      "Very good, Elena\n"
     ]
    }
   ],
   "source": [
    "print jeeves()\n",
    "print jeeves('Elena')"
   ]
  },
  {
   "cell_type": "code",
   "execution_count": 10,
   "metadata": {
    "collapsed": true
   },
   "outputs": [],
   "source": [
    "def jeeves(greeting = \"Very good\", title = 'Ms',name = \"Elena\"):\n",
    "    return greeting+\", \"+ title + \" \" + name\n"
   ]
  },
  {
   "cell_type": "code",
   "execution_count": 11,
   "metadata": {
    "collapsed": false
   },
   "outputs": [
    {
     "name": "stdout",
     "output_type": "stream",
     "text": [
      "Very good, Ms Elena\n",
      "Hello, Ms Elena\n",
      "Hello, Ms John\n"
     ]
    }
   ],
   "source": [
    "print jeeves()\n",
    "print jeeves('Hello')\n",
    "print jeeves('Hello', name = 'John')"
   ]
  },
  {
   "cell_type": "markdown",
   "metadata": {},
   "source": [
    "**Unpacking and packing arguments**"
   ]
  },
  {
   "cell_type": "markdown",
   "metadata": {},
   "source": [
    "If a vector is supplied to a function with a '*', its elements are used to fill each of a function's arguments."
   ]
  },
  {
   "cell_type": "code",
   "execution_count": 12,
   "metadata": {
    "collapsed": false
   },
   "outputs": [
    {
     "name": "stdout",
     "output_type": "stream",
     "text": [
      "1 -> 3\n",
      "1 -> -1\n"
     ]
    }
   ],
   "source": [
    "def arrow(before, after):\n",
    "    return str(before)+\" -> \"+str(after)\n",
    "\n",
    "print arrow(1, 3)\n",
    "x = [1, -1]\n",
    "print arrow(*x)"
   ]
  },
  {
   "cell_type": "markdown",
   "metadata": {},
   "source": [
    "Similiarly, if a * is used in the definition of a function, multiple arguments are absorbed into a tuple inside the function:"
   ]
  },
  {
   "cell_type": "code",
   "execution_count": 14,
   "metadata": {
    "collapsed": false
   },
   "outputs": [
    {
     "name": "stdout",
     "output_type": "stream",
     "text": [
      "<type 'tuple'>\n",
      "[2, 4, 6]\n",
      "<type 'tuple'>\n",
      "[6, '44', [1, 2, 1, 2]]\n"
     ]
    }
   ],
   "source": [
    "def doubler(*sequence):\n",
    "    print type(sequence)\n",
    "    return [x*2 for x in sequence]\n",
    "print doubler(1,2,3)\n",
    "print doubler(3, '4', [1,2])"
   ]
  },
  {
   "cell_type": "markdown",
   "metadata": {},
   "source": [
    "If two asterisks are used in the function definition, named arguments are supplied inside the function as a dictionary:"
   ]
  },
  {
   "cell_type": "code",
   "execution_count": 15,
   "metadata": {
    "collapsed": false
   },
   "outputs": [
    {
     "name": "stdout",
     "output_type": "stream",
     "text": [
      "<type 'dict'>\n",
      "{'electron': 'e', 'proton': 'p', 'neutron': 'n'}\n",
      "electron -> e\n",
      "proton -> p\n",
      "neutron -> n\n"
     ]
    }
   ],
   "source": [
    "def arrowify(**args):\n",
    "    print type(args)\n",
    "    print args\n",
    "    for key, value in args.items():\n",
    "        print key+\" -> \"+value\n",
    "\n",
    "arrowify(neutron=\"n\",proton=\"p\",electron=\"e\")"
   ]
  },
  {
   "cell_type": "markdown",
   "metadata": {},
   "source": [
    "If two asterisks are used in a function call with a dictionary, they deal out the dictionary entries as named parameters to the function. \n",
    "Useful if you need to provide some parameters, but not others, and do not want to be constrained by the order. \n",
    "!!! The parameter names in the function definition and the keywords in the dictionary **must** coincide!"
   ]
  },
  {
   "cell_type": "code",
   "execution_count": 17,
   "metadata": {
    "collapsed": false
   },
   "outputs": [],
   "source": [
    " def verif_keyword_args(**input_arguments):\n",
    "    print 'the type of the variable input_arguments is ',type(input_arguments)\n",
    "    print 'the keys are ',input_arguments.keys()\n",
    "    print 'the values are ', input_arguments.values()\n",
    "    \n",
    "def function_of_list(*arguments):\n",
    "    print type(arguments)\n",
    "    print arguments\n",
    "def function_of_dictionary(**kwargs):\n",
    "    print type(kwargs)\n",
    "    print kwargs\n",
    "def function_of_several_parameters(a,b,c):\n",
    "    print 'a:', a\n",
    "    print 'b:', b\n",
    "    print 'c:', c\n",
    "\n",
    "   \n"
   ]
  },
  {
   "cell_type": "code",
   "execution_count": 18,
   "metadata": {
    "collapsed": false
   },
   "outputs": [
    {
     "name": "stdout",
     "output_type": "stream",
     "text": [
      "the type of the variable input_arguments is  <type 'dict'>\n",
      "the keys are  ['second_argument', 'first_argument', 'third_argument']\n",
      "the values are  ['second', 'first', '3']\n"
     ]
    }
   ],
   "source": [
    "verif_keyword_args(first_argument = 'first', second_argument = 'second', third_argument = '3')"
   ]
  },
  {
   "cell_type": "code",
   "execution_count": 19,
   "metadata": {
    "collapsed": false
   },
   "outputs": [
    {
     "name": "stdout",
     "output_type": "stream",
     "text": [
      "calling function_of_list([1,2,3])\n",
      "<type 'tuple'>\n",
      "([1, 2, 3],)\n"
     ]
    }
   ],
   "source": [
    "print 'calling function_of_list([1,2,3])'\n",
    "function_of_list([1,2,3])"
   ]
  },
  {
   "cell_type": "code",
   "execution_count": 20,
   "metadata": {
    "collapsed": false
   },
   "outputs": [
    {
     "name": "stdout",
     "output_type": "stream",
     "text": [
      "calling function_of_list(1,2,3)\n",
      "<type 'tuple'>\n",
      "(1, 2, 3)\n"
     ]
    }
   ],
   "source": [
    "print 'calling function_of_list(1,2,3)'\n",
    "function_of_list(1,2,3)"
   ]
  },
  {
   "cell_type": "code",
   "execution_count": 21,
   "metadata": {
    "collapsed": false
   },
   "outputs": [
    {
     "name": "stdout",
     "output_type": "stream",
     "text": [
      "calling function_of_dictionary({'first_entry': 1, 'second_entry':2})\n"
     ]
    },
    {
     "ename": "TypeError",
     "evalue": "function_of_dictionary() takes exactly 0 arguments (1 given)",
     "output_type": "error",
     "traceback": [
      "\u001b[1;31m---------------------------------------------------------------------------\u001b[0m",
      "\u001b[1;31mTypeError\u001b[0m                                 Traceback (most recent call last)",
      "\u001b[1;32m<ipython-input-21-ac4f53c38163>\u001b[0m in \u001b[0;36m<module>\u001b[1;34m()\u001b[0m\n\u001b[0;32m      1\u001b[0m \u001b[1;32mprint\u001b[0m \u001b[1;34m\"calling function_of_dictionary({'first_entry': 1, 'second_entry':2})\"\u001b[0m\u001b[1;33m\u001b[0m\u001b[0m\n\u001b[1;32m----> 2\u001b[1;33m \u001b[0mfunction_of_dictionary\u001b[0m\u001b[1;33m(\u001b[0m\u001b[1;33m{\u001b[0m\u001b[1;34m'first entry'\u001b[0m\u001b[1;33m:\u001b[0m \u001b[1;36m1\u001b[0m\u001b[1;33m,\u001b[0m \u001b[1;34m'second entry'\u001b[0m\u001b[1;33m:\u001b[0m\u001b[1;36m2\u001b[0m\u001b[1;33m}\u001b[0m\u001b[1;33m)\u001b[0m\u001b[1;33m\u001b[0m\u001b[0m\n\u001b[0m",
      "\u001b[1;31mTypeError\u001b[0m: function_of_dictionary() takes exactly 0 arguments (1 given)"
     ]
    }
   ],
   "source": [
    "print \"calling function_of_dictionary({'first_entry': 1, 'second_entry':2})\"\n",
    "function_of_dictionary({'first entry': 1, 'second entry':2})"
   ]
  },
  {
   "cell_type": "code",
   "execution_count": 22,
   "metadata": {
    "collapsed": false
   },
   "outputs": [
    {
     "name": "stdout",
     "output_type": "stream",
     "text": [
      "calling function_of_dictionary(first_entry = 1, first_entry = 2)\n",
      "<type 'dict'>\n",
      "{'second_entry': 2, 'first_entry': 1}\n"
     ]
    }
   ],
   "source": [
    "print 'calling function_of_dictionary(first_entry = 1, first_entry = 2)'\n",
    "function_of_dictionary(first_entry = 1, second_entry = 2)"
   ]
  },
  {
   "cell_type": "code",
   "execution_count": 23,
   "metadata": {
    "collapsed": false
   },
   "outputs": [
    {
     "name": "stdout",
     "output_type": "stream",
     "text": [
      "calling function_of_several_parameters(1,2,3)\n",
      "a: 1\n",
      "b: 2\n",
      "c: 3\n"
     ]
    }
   ],
   "source": [
    "print 'calling function_of_several_parameters(1,2,3)'\n",
    "function_of_several_parameters(1,2,3)"
   ]
  },
  {
   "cell_type": "code",
   "execution_count": 24,
   "metadata": {
    "collapsed": false
   },
   "outputs": [
    {
     "name": "stdout",
     "output_type": "stream",
     "text": [
      "calling function_of_several_parameters(*[2,3,4])\n",
      "a: 2\n",
      "b: 3\n",
      "c: 4\n"
     ]
    }
   ],
   "source": [
    "print 'calling function_of_several_parameters(*[2,3,4])'\n",
    "function_of_several_parameters(*[2,3,4])"
   ]
  },
  {
   "cell_type": "code",
   "execution_count": 25,
   "metadata": {
    "collapsed": false
   },
   "outputs": [
    {
     "name": "stdout",
     "output_type": "stream",
     "text": [
      "calling function_of_several_parameters(**{'a':1, 'b':2, 'c':3})\n",
      "a: 1\n",
      "b: 2\n",
      "c: 3\n"
     ]
    }
   ],
   "source": [
    "print \"calling function_of_several_parameters(**{'a':1, 'b':2, 'c':3})\"\n",
    "function_of_several_parameters(**{'a':1, 'b':2,'c':3})"
   ]
  },
  {
   "cell_type": "markdown",
   "metadata": {},
   "source": [
    "You can also mix the different approaches:"
   ]
  },
  {
   "cell_type": "code",
   "execution_count": 26,
   "metadata": {
    "collapsed": true
   },
   "outputs": [],
   "source": [
    "def putting_all_together(a,b,*args, **kwargs):\n",
    "    print 'first parameter:', a\n",
    "    print 'second parameter:', b\n",
    "    print 'parameters packed as a tuple:', args\n",
    "    print 'parameters packed as a dictionary:', kwargs\n",
    "    "
   ]
  },
  {
   "cell_type": "code",
   "execution_count": 27,
   "metadata": {
    "collapsed": false
   },
   "outputs": [
    {
     "name": "stdout",
     "output_type": "stream",
     "text": [
      "calling putting_all_together(1,2,3,4,5,6,first_named = 7, second_named = 8)\n",
      "first parameter: 1\n",
      "second parameter: 2\n",
      "parameters packed as a tuple: (3, 4, 5, 6)\n",
      "parameters packed as a dictionary: {'second_named': 8, 'first_named': 7}\n"
     ]
    }
   ],
   "source": [
    "print \"calling putting_all_together(1,2,3,4,5,6,first_named = 7, second_named = 8)\"\n",
    "putting_all_together(1,2,3,4,5,6,first_named = 7, second_named = 8)\n"
   ]
  },
  {
   "cell_type": "code",
   "execution_count": 28,
   "metadata": {
    "collapsed": false
   },
   "outputs": [
    {
     "name": "stdout",
     "output_type": "stream",
     "text": [
      "calling putting_all_together(1,2,*[3,4,5,6],first_named = 7, second_named = 8)\n",
      "first parameter: 1\n",
      "second parameter: 2\n",
      "parameters packed as a tuple: (3, 4, 5, 6)\n",
      "parameters packed as a dictionary: {'second_named': 8, 'first_named': 7}\n"
     ]
    }
   ],
   "source": [
    "print \"calling putting_all_together(1,2,*[3,4,5,6],first_named = 7, second_named = 8)\"\n",
    "putting_all_together(1,2,*[3,4,5,6],first_named = 7, second_named = 8)"
   ]
  },
  {
   "cell_type": "code",
   "execution_count": 29,
   "metadata": {
    "collapsed": false
   },
   "outputs": [
    {
     "name": "stdout",
     "output_type": "stream",
     "text": [
      "calling putting_all_together(1,2,*[3,4,5,6],**{'first_named': 7, 'second_named': 8})\n",
      "first parameter: 1\n",
      "second parameter: 2\n",
      "parameters packed as a tuple: (3, 4, 5, 6)\n",
      "parameters packed as a dictionary: {'second_named': 8, 'first_named': 7}\n"
     ]
    }
   ],
   "source": [
    "print \"calling putting_all_together(1,2,*[3,4,5,6],**{'first_named': 7, 'second_named': 8})\"\n",
    "putting_all_together(1,2,*[3,4,5,6],**{'first_named': 7, 'second_named': 8})"
   ]
  },
  {
   "cell_type": "code",
   "execution_count": 30,
   "metadata": {
    "collapsed": false
   },
   "outputs": [
    {
     "name": "stdout",
     "output_type": "stream",
     "text": [
      "calling putting_all_together(1,*[3,4,5,6],**{'first_named': 7, 'second_named': 8})\n",
      "first parameter: 1\n",
      "second parameter: 3\n",
      "parameters packed as a tuple: (4, 5, 6)\n",
      "parameters packed as a dictionary: {'second_named': 8, 'first_named': 7}\n"
     ]
    }
   ],
   "source": [
    "print \"calling putting_all_together(1,*[3,4,5,6],**{'first_named': 7, 'second_named': 8})\"\n",
    "putting_all_together(1,*[3,4,5,6],**{'first_named': 7, 'second_named': 8})"
   ]
  },
  {
   "cell_type": "code",
   "execution_count": 32,
   "metadata": {
    "collapsed": false
   },
   "outputs": [
    {
     "name": "stdout",
     "output_type": "stream",
     "text": [
      "calling putting_all_together(1,*[3,4,5,6],zeroth_named = 0, **{'first_named': 7, 'second_named': 8})\n",
      "first parameter: 1\n",
      "second parameter: 3\n",
      "parameters packed as a tuple: (4, 5, 6)\n",
      "parameters packed as a dictionary: {'zeroth_named': 0, 'second_named': 8, 'first_named': 7}\n"
     ]
    }
   ],
   "source": [
    "print \"calling putting_all_together(1,*[3,4,5,6],zeroth_named = 0, **{'first_named': 7, 'second_named': 8})\"\n",
    "putting_all_together(1,*[3,4,5,6],zeroth_named = 0, **{'first_named': 7, 'second_named': 8})"
   ]
  },
  {
   "cell_type": "code",
   "execution_count": 33,
   "metadata": {
    "collapsed": false
   },
   "outputs": [
    {
     "ename": "SyntaxError",
     "evalue": "invalid syntax (<ipython-input-33-bd2714584580>, line 2)",
     "output_type": "error",
     "traceback": [
      "\u001b[1;36m  File \u001b[1;32m\"<ipython-input-33-bd2714584580>\"\u001b[1;36m, line \u001b[1;32m2\u001b[0m\n\u001b[1;33m    putting_all_together(1,*[3,4,5,6], **{'first_named': 7, 'second_named': 8},zeroth_named = 0)\u001b[0m\n\u001b[1;37m                                                                              ^\u001b[0m\n\u001b[1;31mSyntaxError\u001b[0m\u001b[1;31m:\u001b[0m invalid syntax\n"
     ]
    }
   ],
   "source": [
    "print \"calling putting_all_together(1,*[3,4,5,6], **{'first_named': 7, 'second_named': 8}, ,zeroth_named = 0)\"\n",
    "putting_all_together(1,*[3,4,5,6], **{'first_named': 7, 'second_named': 8},zeroth_named = 0)"
   ]
  }
 ],
 "metadata": {
  "kernelspec": {
   "display_name": "Python 2",
   "language": "python",
   "name": "python2"
  },
  "language_info": {
   "codemirror_mode": {
    "name": "ipython",
    "version": 2
   },
   "file_extension": ".py",
   "mimetype": "text/x-python",
   "name": "python",
   "nbconvert_exporter": "python",
   "pygments_lexer": "ipython2",
   "version": "2.7.12"
  }
 },
 "nbformat": 4,
 "nbformat_minor": 0
}
