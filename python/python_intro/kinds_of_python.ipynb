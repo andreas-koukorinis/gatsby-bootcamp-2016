{
 "cells": [
  {
   "cell_type": "markdown",
   "metadata": {},
   "source": [
    "The IPython Notebook\n",
    "\n",
    "\n",
    "\n",
    "* you can easily mix code with discussion and commentary, and with the results of that code; including graphs and other data visualisations.\n",
    "* markdown cells,\n",
    "* code cells, which contain Python. "
   ]
  },
  {
   "cell_type": "markdown",
   "metadata": {},
   "source": []
  },
  {
   "cell_type": "markdown",
   "metadata": {},
   "source": [
    "Markdown cells contain text which uses a simple format to achive pretty layout, for example, to obtain:\n",
    "\n",
    "bold, italic\n",
    "\n",
    "Bullet\n",
    "Quote\n",
    "\n",
    "We write:\n",
    "\n",
    "**bold**, *italic*\n",
    "\n",
    "* Bullet\n",
    "\n",
    "> Quote\n",
    "\n",
    "See the Markdown documentation at http://daringfireball.net/projects/markdown/"
   ]
  },
  {
   "cell_type": "markdown",
   "metadata": {},
   "source": [
    "Code cell inputs are numbered, and show the output below."
   ]
  },
  {
   "cell_type": "code",
   "execution_count": 2,
   "metadata": {
    "collapsed": false
   },
   "outputs": [
    {
     "data": {
      "text/plain": [
       "[<matplotlib.lines.Line2D at 0x7f41c2436590>]"
      ]
     },
     "execution_count": 2,
     "metadata": {},
     "output_type": "execute_result"
    },
    {
     "data": {
      "image/png": "[encoded data removed]",
      "text/plain": [
       "<matplotlib.figure.Figure at 0x7f4218521e90>"
      ]
     },
     "metadata": {},
     "output_type": "display_data"
    }
   ],
   "source": [
    "### Make plot\n",
    "%matplotlib inline\n",
    "import numpy as np\n",
    "import math\n",
    "import matplotlib.pyplot as plt\n",
    "\n",
    "theta=np.arange(0,4*math.pi,0.1)\n",
    "eight=plt.figure()\n",
    "axes=eight.add_axes([0,0,1,1])\n",
    "axes.plot(0.5*np.sin(theta),np.cos(theta/2))\n",
    "\n"
   ]
  },
  {
   "cell_type": "markdown",
   "metadata": {},
   "source": [
    "Typing code in the notebook\n",
    "\n",
    "When working with the notebook, you can either be in a cell, typing its contents, or outside cells, moving around the notebook.\n",
    "\n",
    "When in a cell press escape to leave it. \n",
    "When moving around outside cells, press return to enter.\n",
    "\n",
    "\n",
    "**Outside a cell**:\n",
    "\n",
    "* Use arrow keys to move around.\n",
    "* Press b to add a new cell below the cursor.\n",
    "* Press m to turn a cell from code mode to markdown mode.\n",
    "* Press shift+enter to calculate the code in the block.\n",
    "* Press h to see a list of useful keys in the notebook.\n",
    "\n",
    "\n",
    "**Inside a cell**:\n",
    "* Press tab to suggest completions of variables.\n",
    "\n",
    "Supplementary material: Learn more about the notebook at http://jupyter.org/"
   ]
  },
  {
   "cell_type": "markdown",
   "metadata": {},
   "source": [
    "Python at the command line"
   ]
  },
  {
   "cell_type": "code",
   "execution_count": null,
   "metadata": {
    "collapsed": true
   },
   "outputs": [],
   "source": [
    "%%bash\n",
    "# Above line tells Python to execute this cell as *shell code*\n",
    "# not Python, as if we were in a command line\n",
    "# This is called a 'cell magic'\n",
    "\n",
    "python -c \"print 2+6\"\n"
   ]
  },
  {
   "cell_type": "markdown",
   "metadata": {},
   "source": [
    "Python scripts\n",
    "\n",
    "* your own full programs in Python, which work just like any other program. \n",
    "Python Libraries\n",
    "\n",
    "* yout own python libraries, called modules which can be imported and invoked\n",
    "\n"
   ]
  },
  {
   "cell_type": "code",
   "execution_count": 12,
   "metadata": {
    "collapsed": false
   },
   "outputs": [
    {
     "name": "stdout",
     "output_type": "stream",
     "text": [
      "Writing example_script.py\n"
     ]
    }
   ],
   "source": [
    "%%writefile example_script.py\n",
    "print 'This is a script computing the sum of 2 and 8.'\n",
    "print 2+8"
   ]
  },
  {
   "cell_type": "code",
   "execution_count": 13,
   "metadata": {
    "collapsed": false
   },
   "outputs": [
    {
     "name": "stdout",
     "output_type": "stream",
     "text": [
      "This is a script computing the sum of 2 and 8.\n",
      "10\n"
     ]
    }
   ],
   "source": [
    "%%bash\n",
    "python example_script.py"
   ]
  },
  {
   "cell_type": "code",
   "execution_count": null,
   "metadata": {
    "collapsed": true
   },
   "outputs": [],
   "source": []
  }
 ],
 "metadata": {
  "kernelspec": {
   "display_name": "Python 2",
   "language": "python",
   "name": "python2"
  },
  "language_info": {
   "codemirror_mode": {
    "name": "ipython",
    "version": 2
   },
   "file_extension": ".py",
   "mimetype": "text/x-python",
   "name": "python",
   "nbconvert_exporter": "python",
   "pygments_lexer": "ipython2",
   "version": "2.7.12"
  }
 },
 "nbformat": 4,
 "nbformat_minor": 0
}
