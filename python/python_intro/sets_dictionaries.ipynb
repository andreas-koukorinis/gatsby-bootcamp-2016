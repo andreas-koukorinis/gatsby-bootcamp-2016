{
 "cells": [
  {
   "cell_type": "markdown",
   "metadata": {},
   "source": [
    "**Dictionaries**"
   ]
  },
  {
   "cell_type": "markdown",
   "metadata": {},
   "source": [
    "In a dictionary, we look up an element using **another object of our choice**:"
   ]
  },
  {
   "cell_type": "code",
   "execution_count": 4,
   "metadata": {
    "collapsed": false
   },
   "outputs": [
    {
     "name": "stdout",
     "output_type": "stream",
     "text": [
      "<type 'dict'>\n",
      "{'country': 'US', 'age': 34, 'name': 'John Smith'}\n",
      "the person is called  John Smith\n",
      "the person is  34  years old\n"
     ]
    }
   ],
   "source": [
    "person = {'name': 'John Smith', 'age': 34, 'country': 'US'}\n",
    "print type(person)\n",
    "print person\n",
    "print 'the person is called ',person['name']\n",
    "print 'the person is ', person['age'],' years old'"
   ]
  },
  {
   "cell_type": "markdown",
   "metadata": {},
   "source": [
    "* The things we can use to look up with are called keys. Keys can only be **immutable types**!!\n",
    "* The things we can look up are called values\n",
    "* When we test for containment on a dict we test on the keys"
   ]
  },
  {
   "cell_type": "code",
   "execution_count": 5,
   "metadata": {
    "collapsed": false
   },
   "outputs": [
    {
     "name": "stdout",
     "output_type": "stream",
     "text": [
      "the keys of the person dictionary are  ['country', 'age', 'name']\n",
      "the values of the person dicitonary are  ['US', 34, 'John Smith']\n",
      "False\n"
     ]
    }
   ],
   "source": [
    "print 'the keys of the person dictionary are ', person.keys()\n",
    "print 'the values of the person dicitonary are ', person.values()\n",
    "print 'Elena' in person"
   ]
  },
  {
   "cell_type": "code",
   "execution_count": 6,
   "metadata": {
    "collapsed": false
   },
   "outputs": [
    {
     "ename": "TypeError",
     "evalue": "unhashable type: 'list'",
     "output_type": "error",
     "traceback": [
      "\u001b[1;31m---------------------------------------------------------------------------\u001b[0m",
      "\u001b[1;31mTypeError\u001b[0m                                 Traceback (most recent call last)",
      "\u001b[1;32m<ipython-input-6-ae372ef2f311>\u001b[0m in \u001b[0;36m<module>\u001b[1;34m()\u001b[0m\n\u001b[0;32m      1\u001b[0m illegal = {\n\u001b[1;32m----> 2\u001b[1;33m     \u001b[1;33m[\u001b[0m\u001b[1;34m\"Lamb\"\u001b[0m\u001b[1;33m,\u001b[0m \u001b[1;34m\"Mint\"\u001b[0m\u001b[1;33m]\u001b[0m\u001b[1;33m:\u001b[0m \u001b[0mTrue\u001b[0m\u001b[1;33m,\u001b[0m\u001b[1;33m\u001b[0m\u001b[0m\n\u001b[0m\u001b[0;32m      3\u001b[0m     \u001b[1;33m[\u001b[0m\u001b[1;34m\"Bacon\"\u001b[0m\u001b[1;33m,\u001b[0m \u001b[1;34m\"Chocolate\"\u001b[0m\u001b[1;33m]\u001b[0m\u001b[1;33m:\u001b[0m \u001b[0mFalse\u001b[0m\u001b[1;33m\u001b[0m\u001b[0m\n\u001b[0;32m      4\u001b[0m    }\n",
      "\u001b[1;31mTypeError\u001b[0m: unhashable type: 'list'"
     ]
    }
   ],
   "source": [
    "illegal = {\n",
    "    [\"Lamb\", \"Mint\"]: True, \n",
    "    [\"Bacon\", \"Chocolate\"]: False\n",
    "   }"
   ]
  },
  {
   "cell_type": "markdown",
   "metadata": {},
   "source": [
    "But, since tuples are immutable, this works:"
   ]
  },
  {
   "cell_type": "code",
   "execution_count": 7,
   "metadata": {
    "collapsed": true
   },
   "outputs": [],
   "source": [
    "good_match = {\n",
    "    (\"Lamb\", \"Mint\"): True, \n",
    "    (\"Bacon\", \"Chocolate\"): False\n",
    "   }\n"
   ]
  },
  {
   "cell_type": "markdown",
   "metadata": {},
   "source": [
    "Another consequence of the way dictionaries work is that there's no guaranteed order among the elements:"
   ]
  },
  {
   "cell_type": "code",
   "execution_count": 8,
   "metadata": {
    "collapsed": false
   },
   "outputs": [
    {
     "name": "stdout",
     "output_type": "stream",
     "text": [
      "{'1': 1, '0': 0, '3': 3, '2': 2, '4': 4}\n",
      "[1, 0, 3, 2, 4]\n"
     ]
    }
   ],
   "source": [
    "my_dict = {'0': 0, '1':1, '2': 2, '3': 3, '4': 4}\n",
    "print my_dict\n",
    "print my_dict.values()"
   ]
  },
  {
   "cell_type": "markdown",
   "metadata": {},
   "source": [
    "**Sets**"
   ]
  },
  {
   "cell_type": "markdown",
   "metadata": {},
   "source": [
    "A set is a list which cannot contain the same element twice. We make one by calling set() on any sequence, e.g. a list or string. Or by defining a literal like a dictionary, but without the colons:"
   ]
  },
  {
   "cell_type": "code",
   "execution_count": 9,
   "metadata": {
    "collapsed": false
   },
   "outputs": [
    {
     "name": "stdout",
     "output_type": "stream",
     "text": [
      "<type 'set'>\n",
      "<type 'set'>\n"
     ]
    }
   ],
   "source": [
    "name = \"John Smith\"\n",
    "unique_letters = set(name)\n",
    "print type(unique_letters)\n",
    "primes_below_ten = { 2, 3, 5, 7}\n",
    "print type(primes_below_ten)\n"
   ]
  },
  {
   "cell_type": "markdown",
   "metadata": {},
   "source": [
    "* A set has no particular order, but is really useful for checking or storing unique values.\n",
    "* Set operations work as in mathematics:"
   ]
  },
  {
   "cell_type": "code",
   "execution_count": 1,
   "metadata": {
    "collapsed": false
   },
   "outputs": [
    {
     "name": "stdout",
     "output_type": "stream",
     "text": [
      "intersection  set(['e', 'o'])\n",
      "union  set(['b', 'e', 'd', 'G', 'H', 'l', 'o', 'y'])\n",
      "set diff  set(['y', 'b', 'd', 'G'])\n"
     ]
    }
   ],
   "source": [
    "x = set(\"Hello\")\n",
    "y = set(\"Goodbye\")\n",
    "print 'intersection ',x & y # Intersection\n",
    "print 'union ',x | y # Union\n",
    "print 'set diff ',y - x # y intersection with complement of x: letters in Goodbye but not in Hello\n",
    " "
   ]
  },
  {
   "cell_type": "markdown",
   "metadata": {},
   "source": [
    "This is based on the notes for the 'Research software engineering with Python' course at UCl, available at http://github-pages.ucl.ac.uk/rsd-engineeringcourse/"
   ]
  }
 ],
 "metadata": {
  "kernelspec": {
   "display_name": "Python 2",
   "language": "python",
   "name": "python2"
  },
  "language_info": {
   "codemirror_mode": {
    "name": "ipython",
    "version": 2
   },
   "file_extension": ".py",
   "mimetype": "text/x-python",
   "name": "python",
   "nbconvert_exporter": "python",
   "pygments_lexer": "ipython2",
   "version": "2.7.12"
  }
 },
 "nbformat": 4,
 "nbformat_minor": 0
}
