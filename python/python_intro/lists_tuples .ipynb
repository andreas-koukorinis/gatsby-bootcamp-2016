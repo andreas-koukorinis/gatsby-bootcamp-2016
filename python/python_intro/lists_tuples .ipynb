{
 "cells": [
  {
   "cell_type": "markdown",
   "metadata": {},
   "source": [
    "**Lists **\n",
    "\n",
    "* basic container type in python\n",
    "* can contain elements of different types\n",
    "* elements can be accessed with square brackets\n",
    "* indexing is from 0!!!"
   ]
  },
  {
   "cell_type": "code",
   "execution_count": 2,
   "metadata": {
    "collapsed": false
   },
   "outputs": [
    {
     "name": "stdout",
     "output_type": "stream",
     "text": [
      "<type 'list'>\n",
      "l[0] =  0\n"
     ]
    }
   ],
   "source": [
    "l = [0,'fruits', [1,2,3]]\n",
    "print type(l)\n",
    "print 'l[0] = ', l[0]\n"
   ]
  },
  {
   "cell_type": "markdown",
   "metadata": {},
   "source": [
    "Lists can be unpacked (multiple values from list get assigned to different variables, like dealing decks of cards):"
   ]
  },
  {
   "cell_type": "code",
   "execution_count": 5,
   "metadata": {
    "collapsed": false
   },
   "outputs": [
    {
     "name": "stdout",
     "output_type": "stream",
     "text": [
      "a= 1 b= 2 c=  3\n"
     ]
    }
   ],
   "source": [
    "a, b, c = [1,2,3]\n",
    "print 'a=', a,'b=', b, 'c= ',c"
   ]
  },
  {
   "cell_type": "markdown",
   "metadata": {},
   "source": [
    "The number of elements in the list and variables has to be the same. Error otherwise:\n"
   ]
  },
  {
   "cell_type": "code",
   "execution_count": 6,
   "metadata": {
    "collapsed": false
   },
   "outputs": [
    {
     "ename": "ValueError",
     "evalue": "too many values to unpack",
     "output_type": "error",
     "traceback": [
      "\u001b[1;31m---------------------------------------------------------------------------\u001b[0m",
      "\u001b[1;31mValueError\u001b[0m                                Traceback (most recent call last)",
      "\u001b[1;32m<ipython-input-6-e5e11dd22107>\u001b[0m in \u001b[0;36m<module>\u001b[1;34m()\u001b[0m\n\u001b[1;32m----> 1\u001b[1;33m \u001b[0ma\u001b[0m\u001b[1;33m,\u001b[0m \u001b[0mb\u001b[0m \u001b[1;33m=\u001b[0m \u001b[1;33m[\u001b[0m\u001b[1;36m1\u001b[0m\u001b[1;33m,\u001b[0m\u001b[1;36m2\u001b[0m\u001b[1;33m,\u001b[0m\u001b[1;36m3\u001b[0m\u001b[1;33m]\u001b[0m\u001b[1;33m\u001b[0m\u001b[0m\n\u001b[0m\u001b[0;32m      2\u001b[0m \u001b[1;32mprint\u001b[0m \u001b[1;34m'a = '\u001b[0m\u001b[1;33m,\u001b[0m \u001b[0ma\u001b[0m\u001b[1;33m\u001b[0m\u001b[0m\n",
      "\u001b[1;31mValueError\u001b[0m: too many values to unpack"
     ]
    }
   ],
   "source": [
    "a, b = [1,2,3]\n",
    "print 'a = ', a"
   ]
  },
  {
   "cell_type": "code",
   "execution_count": 7,
   "metadata": {
    "collapsed": false
   },
   "outputs": [
    {
     "ename": "ValueError",
     "evalue": "need more than 3 values to unpack",
     "output_type": "error",
     "traceback": [
      "\u001b[1;31m---------------------------------------------------------------------------\u001b[0m",
      "\u001b[1;31mValueError\u001b[0m                                Traceback (most recent call last)",
      "\u001b[1;32m<ipython-input-7-e93d36fd8cd8>\u001b[0m in \u001b[0;36m<module>\u001b[1;34m()\u001b[0m\n\u001b[1;32m----> 1\u001b[1;33m \u001b[0ma\u001b[0m\u001b[1;33m,\u001b[0m\u001b[0mb\u001b[0m\u001b[1;33m,\u001b[0m\u001b[0mc\u001b[0m\u001b[1;33m,\u001b[0m\u001b[0md\u001b[0m \u001b[1;33m=\u001b[0m \u001b[1;33m[\u001b[0m\u001b[1;36m1\u001b[0m\u001b[1;33m,\u001b[0m\u001b[1;36m2\u001b[0m\u001b[1;33m,\u001b[0m\u001b[1;36m3\u001b[0m\u001b[1;33m]\u001b[0m\u001b[1;33m\u001b[0m\u001b[0m\n\u001b[0m\u001b[0;32m      2\u001b[0m \u001b[1;32mprint\u001b[0m \u001b[1;34m'a='\u001b[0m\u001b[1;33m,\u001b[0m \u001b[0ma\u001b[0m\u001b[1;33m\u001b[0m\u001b[0m\n",
      "\u001b[1;31mValueError\u001b[0m: need more than 3 values to unpack"
     ]
    }
   ],
   "source": [
    "a,b,c,d = [1,2,3]\n",
    "print 'a=', a"
   ]
  },
  {
   "cell_type": "markdown",
   "metadata": {},
   "source": [
    "Lists are mutable types, which means I can change what's in them in an elementwise fashion:"
   ]
  },
  {
   "cell_type": "code",
   "execution_count": 8,
   "metadata": {
    "collapsed": false
   },
   "outputs": [
    {
     "name": "stdout",
     "output_type": "stream",
     "text": [
      "[1, 2, 3]\n",
      "[1, 2, -10]\n"
     ]
    }
   ],
   "source": [
    "l= [1,2,3]\n",
    "print l\n",
    "l[2] = -10\n",
    "print l"
   ]
  },
  {
   "cell_type": "markdown",
   "metadata": {},
   "source": [
    "This is different from tuples, which are like lists, but cannot be changed. They are defined with round brackets:"
   ]
  },
  {
   "cell_type": "code",
   "execution_count": 11,
   "metadata": {
    "collapsed": false
   },
   "outputs": [
    {
     "name": "stdout",
     "output_type": "stream",
     "text": [
      "<type 'tuple'>\n",
      "t[0]= 1\n"
     ]
    }
   ],
   "source": [
    "t = (1,2,'banana')\n",
    "print type(t)\n",
    "print 't[0]=', t[0]"
   ]
  },
  {
   "cell_type": "code",
   "execution_count": 12,
   "metadata": {
    "collapsed": false
   },
   "outputs": [
    {
     "ename": "TypeError",
     "evalue": "'tuple' object does not support item assignment",
     "output_type": "error",
     "traceback": [
      "\u001b[1;31m---------------------------------------------------------------------------\u001b[0m",
      "\u001b[1;31mTypeError\u001b[0m                                 Traceback (most recent call last)",
      "\u001b[1;32m<ipython-input-12-74d75b0bccd6>\u001b[0m in \u001b[0;36m<module>\u001b[1;34m()\u001b[0m\n\u001b[1;32m----> 1\u001b[1;33m \u001b[0mt\u001b[0m\u001b[1;33m[\u001b[0m\u001b[1;36m2\u001b[0m\u001b[1;33m]\u001b[0m \u001b[1;33m=\u001b[0m \u001b[1;34m'apple'\u001b[0m\u001b[1;33m\u001b[0m\u001b[0m\n\u001b[0m",
      "\u001b[1;31mTypeError\u001b[0m: 'tuple' object does not support item assignment"
     ]
    }
   ],
   "source": [
    "t[2] = 'apple'"
   ]
  },
  {
   "cell_type": "markdown",
   "metadata": {},
   "source": [
    "Strings are also immutable:\n"
   ]
  },
  {
   "cell_type": "code",
   "execution_count": 18,
   "metadata": {
    "collapsed": false
   },
   "outputs": [
    {
     "ename": "TypeError",
     "evalue": "'str' object does not support item assignment",
     "output_type": "error",
     "traceback": [
      "\u001b[1;31m---------------------------------------------------------------------------\u001b[0m",
      "\u001b[1;31mTypeError\u001b[0m                                 Traceback (most recent call last)",
      "\u001b[1;32m<ipython-input-18-68400f25076d>\u001b[0m in \u001b[0;36m<module>\u001b[1;34m()\u001b[0m\n\u001b[0;32m      1\u001b[0m \u001b[0mfish\u001b[0m \u001b[1;33m=\u001b[0m \u001b[1;34m'Haddock'\u001b[0m\u001b[1;33m\u001b[0m\u001b[0m\n\u001b[1;32m----> 2\u001b[1;33m \u001b[0mfish\u001b[0m\u001b[1;33m[\u001b[0m\u001b[1;36m0\u001b[0m\u001b[1;33m]\u001b[0m \u001b[1;33m=\u001b[0m \u001b[1;34m'R'\u001b[0m\u001b[1;33m\u001b[0m\u001b[0m\n\u001b[0m",
      "\u001b[1;31mTypeError\u001b[0m: 'str' object does not support item assignment"
     ]
    }
   ],
   "source": [
    "fish = 'Haddock'\n",
    "fish[0] = 'R'"
   ]
  },
  {
   "cell_type": "markdown",
   "metadata": {},
   "source": [
    "You can test for containment in a list (or any other container type, such as tuple, set, or dictionary):"
   ]
  },
  {
   "cell_type": "code",
   "execution_count": 26,
   "metadata": {
    "collapsed": false
   },
   "outputs": [
    {
     "name": "stdout",
     "output_type": "stream",
     "text": [
      "True\n",
      "False\n",
      "True\n",
      "True\n",
      "True\n",
      "True\n",
      "False\n"
     ]
    }
   ],
   "source": [
    "print  2 in [1,2,3]\n",
    "print 4 in [1,2,3]\n",
    "print 'a'  in 'Elena'\n",
    "print 2 in (2,3)\n",
    "print 2 in set((2,3))\n",
    "print 'key1' in {'key1':1, 'key2': 'passport'}\n",
    "print 'passport' in {'key1':1, 'key2': 'passport'}"
   ]
  },
  {
   "cell_type": "markdown",
   "metadata": {},
   "source": [
    "They way memory works with containers can be confusing. Try python visualiser for this:\n"
   ]
  },
  {
   "cell_type": "code",
   "execution_count": 14,
   "metadata": {
    "collapsed": false
   },
   "outputs": [
    {
     "name": "stdout",
     "output_type": "stream",
     "text": [
      "x =  [0, 1, 2]\n",
      "y=  [0, 1, 2]\n",
      "z =  [0, 1, 2]\n",
      "x =  [0, 'Gotcha!', 2]\n",
      "y =  [0, 'Gotcha!', 2]\n",
      "z =  [0, 1, 2]\n",
      "z =  [0, 1, 'Really??!']\n",
      "x=  [0, 'Gotcha!', 2] y=  [0, 'Gotcha!', 2]\n"
     ]
    }
   ],
   "source": [
    "x = range(3)\n",
    "print 'x = ', x\n",
    "y = x\n",
    "print 'y= ',y\n",
    "z = x[0:3]\n",
    "print 'z = ', z\n",
    "y[1] = \"Gotcha!\"\n",
    "print 'x = ',x\n",
    "print 'y = ', y\n",
    "print 'z = ', z\n",
    "z[2] = 'Really??!'\n",
    "print 'z = ', z\n",
    "print 'x= ',x, 'y= ',y"
   ]
  },
  {
   "cell_type": "markdown",
   "metadata": {},
   "source": [
    "There is a difference between x=y and x = y[:], which is a difference between different labels for the same thing and different boxes with the same content. \n",
    "It gets more complicated when it involves nested lists:"
   ]
  },
  {
   "cell_type": "code",
   "execution_count": 15,
   "metadata": {
    "collapsed": false
   },
   "outputs": [
    {
     "name": "stdout",
     "output_type": "stream",
     "text": [
      "x =  [['a', 'b'], 'c']\n",
      "y=  [['a', 'b'], 'c']\n",
      "z =  [['a', 'b'], 'c']\n",
      "x =  [['a', 'd'], 'c']\n",
      "y =  [['a', 'd'], 'c']\n",
      "z=  [['a', 'd'], 'c']\n",
      "x =  [['a', 'd'], 'c']\n",
      "y=  [['a', 'd'], 'c']\n",
      "z =  [['a', 'd'], 'e']\n"
     ]
    }
   ],
   "source": [
    "x = [['a', 'b'],'c']\n",
    "print 'x = ',x\n",
    "y=x\n",
    "print 'y= ', y\n",
    "z = x[:]\n",
    "print 'z = ', z\n",
    "x[0][1] = 'd'\n",
    "print 'x = ', x\n",
    "print 'y = ', y\n",
    "print 'z= ',z \n",
    "z[1] = 'e'\n",
    "print 'x = ', x\n",
    "print 'y= ', y\n",
    "print 'z = ', z"
   ]
  },
  {
   "cell_type": "markdown",
   "metadata": {},
   "source": [
    "These two types of being the same can be tested with == and is.\n",
    "* is tests if the two labels point to the same box\n",
    "* == tests if the content of boxed to which the two labels point is the same"
   ]
  },
  {
   "cell_type": "code",
   "execution_count": 16,
   "metadata": {
    "collapsed": false
   },
   "outputs": [
    {
     "name": "stdout",
     "output_type": "stream",
     "text": [
      "True\n",
      "False\n"
     ]
    }
   ],
   "source": [
    "print [1,2] == [1,2]\n",
    "print [1,2] is [1,2]\n"
   ]
  },
  {
   "cell_type": "markdown",
   "metadata": {},
   "source": [
    "But for immutables python might actually use the same copy!!"
   ]
  },
  {
   "cell_type": "code",
   "execution_count": 17,
   "metadata": {
    "collapsed": false
   },
   "outputs": [
    {
     "name": "stdout",
     "output_type": "stream",
     "text": [
      "True\n",
      "True\n"
     ]
    }
   ],
   "source": [
    "print \"Hello\" == \"Hello\"\n",
    "print \"Hello\" is \"Hello\""
   ]
  },
  {
   "cell_type": "markdown",
   "metadata": {
    "collapsed": true
   },
   "source": [
    "This is based on the notes for the 'Research software engineering with Python' course at UCl, available at http://github-pages.ucl.ac.uk/rsd-engineeringcourse/"
   ]
  }
 ],
 "metadata": {
  "kernelspec": {
   "display_name": "Python 2",
   "language": "python",
   "name": "python2"
  },
  "language_info": {
   "codemirror_mode": {
    "name": "ipython",
    "version": 2
   },
   "file_extension": ".py",
   "mimetype": "text/x-python",
   "name": "python",
   "nbconvert_exporter": "python",
   "pygments_lexer": "ipython2",
   "version": "2.7.12"
  }
 },
 "nbformat": 4,
 "nbformat_minor": 0
}
