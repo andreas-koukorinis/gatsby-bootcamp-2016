{
 "cells": [
  {
   "cell_type": "markdown",
   "metadata": {},
   "source": [
    "# Assignment 4: Solutions"
   ]
  },
  {
   "cell_type": "markdown",
   "metadata": {},
   "source": [
    "## Problem 1: Measuring butterflies\n",
    "To discover things about a butterfly population, the Natural History Museum has measured the width of several butterflies in its collection. "
   ]
  },
  {
   "cell_type": "code",
   "execution_count": 1,
   "metadata": {
    "collapsed": true
   },
   "outputs": [],
   "source": [
    "%matplotlib inline\n",
    "import matplotlib.pyplot as plt\n",
    "import numpy as np\n",
    "\n",
    "wing_widths = [7.02, 6.84, 6.56, 6.44, 0.0, 0.0, 4.92, 6.35, 6.07, 6.68, 6.91, 7.09, 8.90, 0.0,\n",
    "               9.79, 6.32, 7.24, 7.27, 8.02, 0.0, 7.76, 6.94, 5.80, 7.43, 6.85, 8.44, 5.16, 7.96, \n",
    "               0.0, 6.99, 8.56, 5.20, 5.76, 6.87, 6.41, 0.0, 7.36, 5.74, 7.06, 6.44, 8.06, 7.86]"
   ]
  },
  {
   "cell_type": "code",
   "execution_count": 2,
   "metadata": {
    "collapsed": true
   },
   "outputs": [],
   "source": [
    "# Find the mean width of the wings:\n",
    "wing_widths = np.array(wing_widths)\n",
    "mean_ww = np.mean(wing_widths)\n",
    "\n",
    "# Also find the median and the standard deviation.\n",
    "median_ww = np.median(wing_widths)\n",
    "std_ww = np.std(wing_widths)"
   ]
  },
  {
   "cell_type": "code",
   "execution_count": 3,
   "metadata": {
    "collapsed": true
   },
   "outputs": [],
   "source": [
    "# Find the width of the largest wing, and the smallest:\n",
    "largest = np.argmax(wing_widths)\n",
    "smallest = np.argmin(wing_widths)"
   ]
  },
  {
   "cell_type": "code",
   "execution_count": 4,
   "metadata": {
    "collapsed": false
   },
   "outputs": [
    {
     "data": {
      "text/plain": [
       "(array([ 6.,  0.,  0.,  0.,  0.,  0.,  0.,  0.,  0.,  0.,  3.,  3.,  3.,\n",
       "         7.,  9.,  3.,  4.,  2.,  1.,  1.]),\n",
       " array([ 0.    ,  0.4895,  0.979 ,  1.4685,  1.958 ,  2.4475,  2.937 ,\n",
       "         3.4265,  3.916 ,  4.4055,  4.895 ,  5.3845,  5.874 ,  6.3635,\n",
       "         6.853 ,  7.3425,  7.832 ,  8.3215,  8.811 ,  9.3005,  9.79  ]),\n",
       " <a list of 20 Patch objects>)"
      ]
     },
     "execution_count": 4,
     "metadata": {},
     "output_type": "execute_result"
    },
    {
     "data": {
      "image/png": "[encoded data removed]",
      "text/plain": [
       "<matplotlib.figure.Figure at 0x11217ee90>"
      ]
     },
     "metadata": {},
     "output_type": "display_data"
    }
   ],
   "source": [
    "# Now plot a histogram of the data:\n",
    "\n",
    "plt.hist(wing_widths)\n",
    "\n",
    "# Try adjusting the number of bins in the histogram:\n",
    "plt.hist(wing_widths, bins=20)"
   ]
  },
  {
   "cell_type": "code",
   "execution_count": 22,
   "metadata": {
    "collapsed": false
   },
   "outputs": [],
   "source": [
    "# Count how many wings have been given a wing width of zero:\n",
    "n_zero_length = len(wing_widths[wing_widths==0])"
   ]
  },
  {
   "cell_type": "code",
   "execution_count": 24,
   "metadata": {
    "collapsed": false
   },
   "outputs": [
    {
     "data": {
      "text/plain": [
       "<matplotlib.collections.LineCollection at 0x11452eb90>"
      ]
     },
     "execution_count": 24,
     "metadata": {},
     "output_type": "execute_result"
    },
    {
     "data": {
      "image/png": "[encoded data removed]",
      "text/plain": [
       "<matplotlib.figure.Figure at 0x11462a790>"
      ]
     },
     "metadata": {},
     "output_type": "display_data"
    }
   ],
   "source": [
    "# Create a new numpy array that only contains the wing widths greater than zero:\n",
    "nonzero_ww = wing_widths[wing_widths>0]\n",
    "\n",
    "# Now find the new mean, median and min and max:\n",
    "mean_nonzero_ww = np.mean(nonzero_ww)\n",
    "median_nonzero_ww = np.median(nonzero_ww)\n",
    "smallest_nonzero_ww = min(nonzero_ww)\n",
    "largest_nonzero_ww = max(nonzero_ww)\n",
    "\n",
    "# Plot a histogram of this data:\n",
    "winghist = plt.hist(nonzero_ww, bins=20, color='grey')\n",
    "\n",
    "# ***additional***\n",
    "# Plot a vertical line, where the mean is\n",
    "plt.vlines(mean_nonzero_ww, min(winghist[0]), max(winghist[0]), 'r')\n",
    "\n",
    "# Plot a vertical line, where the smallest & largest  values are\n",
    "plt.vlines(smallest_nonzero_ww, min(winghist[0]), max(winghist[0]), 'g')\n",
    "plt.vlines(largest_nonzero_ww, min(winghist[0]), max(winghist[0]), 'g')"
   ]
  },
  {
   "cell_type": "markdown",
   "metadata": {},
   "source": [
    "## Problem 2: Plotting parabolas\n",
    "Write Python code that produces the following figure:\n",
    "![alt text](http://www.cs.ucl.ac.uk/scipython/img/a4_parabolas.png \"Parabolas\")\n"
   ]
  },
  {
   "cell_type": "code",
   "execution_count": 25,
   "metadata": {
    "collapsed": false
   },
   "outputs": [
    {
     "name": "stdout",
     "output_type": "stream",
     "text": [
      "Populating the interactive namespace from numpy and matplotlib\n"
     ]
    }
   ],
   "source": [
    "%pylab inline\n",
    "import numpy as np\n",
    "import matplotlib.pyplot as plt"
   ]
  },
  {
   "cell_type": "code",
   "execution_count": 26,
   "metadata": {
    "collapsed": false
   },
   "outputs": [
    {
     "data": {
      "text/plain": [
       "<matplotlib.legend.Legend at 0x11487e2d0>"
      ]
     },
     "execution_count": 26,
     "metadata": {},
     "output_type": "execute_result"
    },
    {
     "data": {
      "image/png": "[encoded data removed]",
      "text/plain": [
       "<matplotlib.figure.Figure at 0x114813d50>"
      ]
     },
     "metadata": {},
     "output_type": "display_data"
    }
   ],
   "source": [
    "formula1 = '5*x**2+3'\n",
    "formula2 = '2*x**2+3'\n",
    "x = np.array(np.arange(-3, 3, 0.001))  \n",
    "y1 = eval(formula1)\n",
    "y2 = eval(formula2)\n",
    "plt.plot(x, y1, color=\"red\", label=\"$f(x) = 2x^2+3$\")\n",
    "plt.plot(x, y2, linestyle='--', color=\"black\", label=\"$f(x) = 5x^2+3$\")  \n",
    "plt.grid()\n",
    "plt.xlabel('$x$')\n",
    "plt.ylabel('$y$')\n",
    "plt.title('Some fancy parabolas')\n",
    "plt.legend()"
   ]
  },
  {
   "cell_type": "markdown",
   "metadata": {},
   "source": [
    "## Problem 3: Healthy Breakfast\n",
    "In this exercise we will do some simple analyses on a data set that contains information about 77 types of breakfast cereal. You can read about the data set at [CMU's website](http://lib.stat.cmu.edu/DASL/Stories/HealthyBreakfast.html). Download the files [cereal.csv](http://www.cs.ucl.ac.uk/scipython/resources/cereal.txt) from the course website. Below you can find a small code snippet to get you started on  reading the data set from the file."
   ]
  },
  {
   "cell_type": "code",
   "execution_count": 27,
   "metadata": {
    "collapsed": false
   },
   "outputs": [
    {
     "ename": "IOError",
     "evalue": "[Errno 2] No such file or directory: 'cereal.txt'",
     "output_type": "error",
     "traceback": [
      "\u001b[0;31m---------------------------------------------------------------------------\u001b[0m",
      "\u001b[0;31mIOError\u001b[0m                                   Traceback (most recent call last)",
      "\u001b[0;32m<ipython-input-27-3fcb33bd3b07>\u001b[0m in \u001b[0;36m<module>\u001b[0;34m()\u001b[0m\n\u001b[1;32m     45\u001b[0m \u001b[0;34m\u001b[0m\u001b[0m\n\u001b[1;32m     46\u001b[0m \u001b[0;31m#Now execute our functions:\u001b[0m\u001b[0;34m\u001b[0m\u001b[0;34m\u001b[0m\u001b[0m\n\u001b[0;32m---> 47\u001b[0;31m \u001b[0mcolumn_labels\u001b[0m\u001b[0;34m,\u001b[0m \u001b[0mproductNames\u001b[0m\u001b[0;34m,\u001b[0m \u001b[0mdata\u001b[0m \u001b[0;34m=\u001b[0m \u001b[0mgetData\u001b[0m\u001b[0;34m(\u001b[0m\u001b[0;34m'cereal.txt'\u001b[0m\u001b[0;34m)\u001b[0m\u001b[0;34m\u001b[0m\u001b[0m\n\u001b[0m\u001b[1;32m     48\u001b[0m \u001b[0mplotFatVsCalories\u001b[0m\u001b[0;34m(\u001b[0m\u001b[0mcolumn_labels\u001b[0m\u001b[0;34m,\u001b[0m \u001b[0mdata\u001b[0m\u001b[0;34m)\u001b[0m\u001b[0;34m\u001b[0m\u001b[0m\n",
      "\u001b[0;32m<ipython-input-27-3fcb33bd3b07>\u001b[0m in \u001b[0;36mgetData\u001b[0;34m(filename)\u001b[0m\n\u001b[1;32m     18\u001b[0m                   \"weight/serving (in ounces)\", \"cups per serving\"]\n\u001b[1;32m     19\u001b[0m \u001b[0;34m\u001b[0m\u001b[0m\n\u001b[0;32m---> 20\u001b[0;31m     \u001b[0;32mwith\u001b[0m \u001b[0mopen\u001b[0m\u001b[0;34m(\u001b[0m\u001b[0mfilename\u001b[0m\u001b[0;34m)\u001b[0m \u001b[0;32mas\u001b[0m \u001b[0mf\u001b[0m\u001b[0;34m:\u001b[0m\u001b[0;34m\u001b[0m\u001b[0m\n\u001b[0m\u001b[1;32m     21\u001b[0m         \u001b[0;32mfor\u001b[0m \u001b[0ml\u001b[0m \u001b[0;32min\u001b[0m \u001b[0mf\u001b[0m\u001b[0;34m:\u001b[0m\u001b[0;34m\u001b[0m\u001b[0m\n\u001b[1;32m     22\u001b[0m           \u001b[0mfields\u001b[0m \u001b[0;34m=\u001b[0m \u001b[0ml\u001b[0m\u001b[0;34m.\u001b[0m\u001b[0msplit\u001b[0m\u001b[0;34m(\u001b[0m\u001b[0;34m)\u001b[0m\u001b[0;34m\u001b[0m\u001b[0m\n",
      "\u001b[0;31mIOError\u001b[0m: [Errno 2] No such file or directory: 'cereal.txt'"
     ]
    }
   ],
   "source": [
    "import numpy as np\n",
    "import matplotlib.pyplot as plt\n",
    "\n",
    "def getData(filename = 'cereal.txt'):\n",
    "    \"\"\"\n",
    "    Reads the cereal data from the given file name.\n",
    "    Returns a tuple of column labels, names and data, where\n",
    "    col_labels Labels of the attributes in the data set\n",
    "    names      List containing the names of the cereals tested\n",
    "    data       numpy.ndarray containing the numeric values of the 12 attributes for the 77 cereals\n",
    "    \"\"\"\n",
    "    names = []\n",
    "    data = []\n",
    "    col_labels = [\"calories (number)\", \"protein (g)\", \"fat (g)\", \"sodium (mg)\", \n",
    "                  \"dietary fiber (g)\", \"complex carbohydrates (g)\", \"sugars (g)\", \n",
    "                  \"display shelf\", \"potassium (mg)\", \n",
    "                  \"vitamins and minerals\", \n",
    "                  \"weight/serving (in ounces)\", \"cups per serving\"]\n",
    "\n",
    "    with open(filename) as f:\n",
    "        for l in f:\n",
    "          fields = l.split()\n",
    "          names.append(fields[0])\n",
    "          data.append([float(x) for x in fields[3:]])\n",
    "\n",
    "    data = np.array(data)\n",
    "    return col_labels, names, data\n",
    "\n",
    "def plotFatVsCalories(col_labels, data):\n",
    "    \"\"\"\n",
    "    Plots fat content vs calories\n",
    "    \"\"\"\n",
    "\n",
    "    fat = data[:,2]\n",
    "    calories = data[:,0]\n",
    "    plt.plot(fat, calories ,'kx')\n",
    "    plt.xlabel(col_labels[2])\n",
    "    plt.ylabel(col_labels[0])\n",
    "    plt.grid()\n",
    "\n",
    "    # fit a line through the points\n",
    "    coefficients = np.polyfit(fat, calories, 1)\n",
    "    poly = np.poly1d(coefficients)\n",
    "    plt.plot(fat,poly(fat), 'r-')\n",
    "\n",
    "#Now execute our functions:\n",
    "column_labels, productNames, data = getData('cereal.txt')\n",
    "plotFatVsCalories(column_labels, data)\n"
   ]
  },
  {
   "cell_type": "markdown",
   "metadata": {},
   "source": [
    "> **1.** Compute the average number of calories, as well as the average amount of complex carbohydrates and sugars in the data set."
   ]
  },
  {
   "cell_type": "code",
   "execution_count": null,
   "metadata": {
    "collapsed": false
   },
   "outputs": [],
   "source": [
    "idx = {}\n",
    "idx[\"cal\"] = 0\n",
    "idx[\"fat\"] = 2\n",
    "idx[\"carbs\"] = 5\n",
    "idx[\"sugar\"] = 6\n",
    "idx[\"shelf\"] = 7"
   ]
  },
  {
   "cell_type": "code",
   "execution_count": null,
   "metadata": {
    "collapsed": false
   },
   "outputs": [],
   "source": [
    "print \"Average number of calories: %.2f\" %np.mean(data[:,idx[\"cal\"]])\n",
    "print \"Average amount of complex carbohydrates: %.2f\" %np.mean(data[:,idx[\"carbs\"]])\n",
    "print \"Average amount of sugars: %.2f\" %np.mean(data[:,idx[\"sugar\"]])"
   ]
  },
  {
   "cell_type": "markdown",
   "metadata": {},
   "source": [
    "> **2.** What is the name of the cereal that has the highest sugar content?"
   ]
  },
  {
   "cell_type": "code",
   "execution_count": null,
   "metadata": {
    "collapsed": false
   },
   "outputs": [],
   "source": [
    "maxSugarIdx = np.argmax(data[:, idx[\"sugar\"]])\n",
    "print productNames[maxSugarIdx]"
   ]
  },
  {
   "cell_type": "markdown",
   "metadata": {},
   "source": [
    "> **3.** The 8th column of the data set contains the shelf at which the cereal is displayed in the supermarket (either 1, 2, or 3). Compute the mean number of calories of the cereals displayed in each shelf. If you do this correctly you should find the the cereals displayed on the middle shelf have a higher calory content on average. "
   ]
  },
  {
   "cell_type": "code",
   "execution_count": null,
   "metadata": {
    "collapsed": false
   },
   "outputs": [],
   "source": [
    "def computeMeanOfShelfs():\n",
    "    print computeMeanOfShelf(1)\n",
    "    print computeMeanOfShelf(2)\n",
    "    print computeMeanOfShelf(3)\n",
    "    \n",
    "def computeMeanOfShelf(shelfNo):\n",
    "    items = retrieveItemsInShelf(shelfNo)\n",
    "    meanOfCal = np.mean(data[items, idx['cal']])\n",
    "    return meanOfCal\n",
    "\n",
    "def retrieveItemsInShelf(shelfNo):\n",
    "    shelfs = data[:, idx['shelf']]\n",
    "    return shelfs == shelfNo\n",
    "\n",
    "def retrieveSugarInShelf(shelfNo):\n",
    "    items = retrieveItemsInShelf(shelfNo)\n",
    "    return data[items, idx[\"sugar\"]]"
   ]
  },
  {
   "cell_type": "code",
   "execution_count": null,
   "metadata": {
    "collapsed": false
   },
   "outputs": [],
   "source": [
    "computeMeanOfShelfs()"
   ]
  },
  {
   "cell_type": "markdown",
   "metadata": {},
   "source": [
    "> **4.** Make a box plot showing the sugar content of cereals grouped by shelf (recreating the plot that you'll find on the homepage for this data set)."
   ]
  },
  {
   "cell_type": "code",
   "execution_count": null,
   "metadata": {
    "collapsed": false
   },
   "outputs": [],
   "source": [
    "def plotBoxPlotOfSugar():\n",
    "    sugars = []\n",
    "    for i in range(1,4):\n",
    "        sugars.append(retrieveSugarInShelf(i))\n",
    "    \n",
    "    plt.boxplot(sugars)"
   ]
  },
  {
   "cell_type": "code",
   "execution_count": null,
   "metadata": {
    "collapsed": false
   },
   "outputs": [],
   "source": [
    "plotBoxPlotOfSugar()"
   ]
  },
  {
   "cell_type": "markdown",
   "metadata": {},
   "source": [
    "> **5.** Explore the data set by plotting and regressing the different variables against each other. "
   ]
  },
  {
   "cell_type": "code",
   "execution_count": null,
   "metadata": {
    "collapsed": false
   },
   "outputs": [],
   "source": [
    "from scipy.stats import linregress\n",
    "\n",
    "def plotAagainstB(data, col_labels, col1Id, col2Id):\n",
    "    \"\"\"\n",
    "    Plots col1Id content vs col2Id\n",
    "    \"\"\"\n",
    "\n",
    "    col1 = data[:,col1Id]\n",
    "    col2 = data[:,col2Id]\n",
    "    plt.plot(col1, col2 ,'kx')\n",
    "    plt.xlabel(col_labels[col1Id])\n",
    "    plt.ylabel(col_labels[col2Id])\n",
    "    plt.grid()\n",
    "    \n",
    "    slope, intercept, r_value, p_value, std_err = linregress(col1,col2)\n",
    "    \n",
    "    # fit a line through the points\n",
    "    coefficients = np.polyfit(col1, col2, 1)\n",
    "    poly = np.poly1d(coefficients)\n",
    "    plt.plot(col1,poly(col1), 'r-')\n",
    "    plt.show()\n",
    "    print \"Linear Regression with r=%.3f, p=%.2g\" %(r_value, p_value)\n",
    "    return p_value, r_value"
   ]
  },
  {
   "cell_type": "code",
   "execution_count": null,
   "metadata": {
    "collapsed": false
   },
   "outputs": [],
   "source": [
    "import itertools\n",
    "def plotAllRegressions(data, col_labels, sigBoundary):\n",
    "    significant = []\n",
    "    for col1Id, col2Id in itertools.combinations(range(len(col_labels)),2):\n",
    "        print \"%s vs %s:\" %(col_labels[col1Id], col_labels[col2Id])\n",
    "        p, r  = plotAagainstB(data, col_labels, col1Id, col2Id)\n",
    "        if p < sigBoundary:\n",
    "            significant.append((col1Id, col2Id, p, r))\n",
    "    print \"Significant at %f boundary:\" %sigBoundary\n",
    "    maxColLengths = max(len(x) for x in col_labels)\n",
    "    for col1Id, col2Id, p, r in significant:\n",
    "        print \"%-*s vs %-*s: r=%6.3f, p=%.2g\" %(maxColLengths, col_labels[col1Id], \n",
    "                                              maxColLengths, col_labels[col2Id], r, p)"
   ]
  },
  {
   "cell_type": "code",
   "execution_count": null,
   "metadata": {
    "collapsed": false
   },
   "outputs": [],
   "source": [
    "plotAllRegressions(data,column_labels, 0.05)"
   ]
  },
  {
   "cell_type": "markdown",
   "metadata": {},
   "source": [
    "## Problem 4: Chocolate makes you faster?\n",
    "Your colleague (a psychologist) has conducted an experiment where he measured subjects' performance on a memory and a reaction time task. He claims to have found a correlation between the two, but you are sceptical, because you know your colleague is not very good at clicking buttons in SPSS. Luckily, you can convince your colleague to give you his data file so you can assess his claims. \n",
    " \n",
    "> **1.** He gives you the file [experiment.csv](http://www.cs.ucl.ac.uk/scipython/resources/experiment.csv). It contains one line per subject, and each line contains the values for the following variables that he measured: `height`, `weight`, `amount-chocolate`, `task-one-score`, `task-two-score`. (He allowed the participants to eat chocolate during the experiment, and the third column shows the amount of chocolate they ate in grams.) Load the data into an array."
   ]
  },
  {
   "cell_type": "code",
   "execution_count": null,
   "metadata": {
    "collapsed": false
   },
   "outputs": [],
   "source": [
    "rawData = []\n",
    "with open(\"experiment.csv\") as f:\n",
    "    for line in f:\n",
    "        rawData += [[float(x) for x in line.split()]]\n",
    "        # rawData.append(line.split())\n",
    "        \n",
    "data = np.array(rawData)\n",
    "\n",
    "idx = {}\n",
    "idx[\"height\"] = 0\n",
    "idx[\"weight\"] = 1\n",
    "idx[\"amount\"] = 2\n",
    "idx[\"taskA\"] = 3\n",
    "idx[\"taskB\"] = 4"
   ]
  },
  {
   "cell_type": "markdown",
   "metadata": {},
   "source": [
    "> **2.** As a sanity check, create a scatter plot of height vs. weight. These two should clearly be correlated and you should see a straight line relationship."
   ]
  },
  {
   "cell_type": "code",
   "execution_count": null,
   "metadata": {
    "collapsed": false
   },
   "outputs": [],
   "source": [
    "scatter(data[:, idx['height']], data[:, idx['weight']])"
   ]
  },
  {
   "cell_type": "markdown",
   "metadata": {},
   "source": [
    "> **3.** To assess your colleague's claim, first create a box plot of the scores in task 1 and task 2. Also, compute the correlation between the two (using Pearson's $r$) and check whether it is significant. _Hint_: Use the function `scipy.stats.pearsonr`."
   ]
  },
  {
   "cell_type": "code",
   "execution_count": null,
   "metadata": {
    "collapsed": false
   },
   "outputs": [],
   "source": [
    "_ = boxplot([data[:, idx['taskA']], data[:, idx['taskB']]])"
   ]
  },
  {
   "cell_type": "code",
   "execution_count": null,
   "metadata": {
    "collapsed": false
   },
   "outputs": [],
   "source": [
    "from scipy.stats.stats import pearsonr\n",
    "taskA = data[:, idx['taskA']]\n",
    "taskB = data[:, idx['taskB']]\n",
    "pearsonr(taskA, taskB)"
   ]
  },
  {
   "cell_type": "markdown",
   "metadata": {},
   "source": [
    "> **4.** When your colleague hears about your results, he is a bit disappointed. However, he already has a new hypothesis: maybe chocolate is acting as a promoter somehow and the amount of chocolate consumed has some effect? Create some plots and hypothesis tests to assess this new hypothesis. "
   ]
  },
  {
   "cell_type": "code",
   "execution_count": null,
   "metadata": {
    "collapsed": false
   },
   "outputs": [],
   "source": [
    "_ = scatter(data[:, idx[\"amount\"]], taskA, alpha=0.4)\n",
    "ylabel(\"performance of task 1\")\n",
    "xlabel(\"amount of chocolate consumed\")"
   ]
  },
  {
   "cell_type": "markdown",
   "metadata": {},
   "source": [
    "> **5.** After you come back with your results, your colleague has one last idea: Maybe you need to eat more than some critical amount of chocolate (which depends on your body mass index) in order for there to be a correlation between the two tasks? He guesses that you need to eat at least six times your BMI in chocolate in order for the correlation to show up. You think your colleague is crazy, but go ahead an test his claim. What do you find? Again, produce some figures, compute correlations and test for significance."
   ]
  },
  {
   "cell_type": "code",
   "execution_count": null,
   "metadata": {
    "collapsed": false
   },
   "outputs": [],
   "source": [
    "def calculateSections(amount, maximum = 200):\n",
    "    stepSize = maximum / amount    \n",
    "    sections = []\n",
    "    stop = 0    \n",
    "    for i in range(amount):\n",
    "        start = stop\n",
    "        stop = stop + stepSize\n",
    "        section = slice(start, stop)\n",
    "        sections.append(section)\n",
    "    \n",
    "    return sections\n",
    "\n",
    "def plotDataBlocks(data, chocolate, amount=20):\n",
    "    sections = calculateSections(amount)\n",
    "    dataBlock = []\n",
    "#     chocolate = data[:, idx['amount']]\n",
    "    \n",
    "    for sec in sections:\n",
    "        s = sec.start\n",
    "        e = sec.stop\n",
    "        \n",
    "        rng = np.logical_and(chocolate >= s, chocolate < e)\n",
    "        dataBlock.append(data[rng])\n",
    "        \n",
    "    _ = boxplot(dataBlock)"
   ]
  },
  {
   "cell_type": "code",
   "execution_count": null,
   "metadata": {
    "collapsed": false
   },
   "outputs": [],
   "source": [
    "plotDataBlocks(taskA, data[:, idx['amount']], amount = 20)"
   ]
  },
  {
   "cell_type": "code",
   "execution_count": null,
   "metadata": {
    "collapsed": false
   },
   "outputs": [],
   "source": [
    "plotDataBlocks(taskB, data[:, idx['amount']], amount = 20)"
   ]
  }
 ],
 "metadata": {
  "kernelspec": {
   "display_name": "Python 2",
   "language": "python",
   "name": "python2"
  },
  "language_info": {
   "codemirror_mode": {
    "name": "ipython",
    "version": 2
   },
   "file_extension": ".py",
   "mimetype": "text/x-python",
   "name": "python",
   "nbconvert_exporter": "python",
   "pygments_lexer": "ipython2",
   "version": "2.7.11"
  }
 },
 "nbformat": 4,
 "nbformat_minor": 0
}
