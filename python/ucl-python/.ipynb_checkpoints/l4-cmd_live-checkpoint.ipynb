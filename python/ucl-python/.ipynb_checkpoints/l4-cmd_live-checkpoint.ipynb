{
 "cells": [
  {
   "cell_type": "markdown",
   "metadata": {},
   "source": [
    "Clarification"
   ]
  },
  {
   "cell_type": "code",
   "execution_count": null,
   "metadata": {
    "collapsed": true
   },
   "outputs": [],
   "source": [
    "# This is a comment"
   ]
  },
  {
   "cell_type": "code",
   "execution_count": null,
   "metadata": {
    "collapsed": true
   },
   "outputs": [],
   "source": [
    "'''This is triple quoted string (string literal) convenient\n",
    "for documenting functions with multiple lines of discription!'''"
   ]
  },
  {
   "cell_type": "markdown",
   "metadata": {},
   "source": [
    "# Python and the command line"
   ]
  },
  {
   "cell_type": "markdown",
   "metadata": {},
   "source": [
    "In this session we will briefly introduce you to the basics of\n",
    "\n",
    "    • How to import python files into the notebook\n",
    "    • How to create a Python file outside of an iPython notebook\n",
    "    • How to navigate the command line\n",
    "    • Execute a simple script using command line arguments\n"
   ]
  },
  {
   "cell_type": "code",
   "execution_count": 1,
   "metadata": {
    "collapsed": true
   },
   "outputs": [],
   "source": [
    "# Import Operating System (OS) related functionality\n",
    "import os\n",
    "# System-specific parameters and functions\n",
    "import sys"
   ]
  },
  {
   "cell_type": "code",
   "execution_count": 2,
   "metadata": {
    "collapsed": false
   },
   "outputs": [
    {
     "name": "stdout",
     "output_type": "stream",
     "text": [
      "3.4.3 |Anaconda 2.4.1 (x86_64)| (default, Oct 20 2015, 14:27:51) \n",
      "[GCC 4.2.1 (Apple Inc. build 5577)]\n"
     ]
    }
   ],
   "source": [
    "# Print some information about our Python version\n",
    "print(sys.version)"
   ]
  },
  {
   "cell_type": "code",
   "execution_count": 3,
   "metadata": {
    "collapsed": false
   },
   "outputs": [
    {
     "name": "stdout",
     "output_type": "stream",
     "text": [
      "['', '/Users/dimitrismylonas/anaconda/envs/py3k/lib/python34.zip', '/Users/dimitrismylonas/anaconda/envs/py3k/lib/python3.4', '/Users/dimitrismylonas/anaconda/envs/py3k/lib/python3.4/plat-darwin', '/Users/dimitrismylonas/anaconda/envs/py3k/lib/python3.4/lib-dynload', '/Users/dimitrismylonas/anaconda/envs/py3k/lib/python3.4/site-packages/Sphinx-1.3.1-py3.4.egg', '/Users/dimitrismylonas/anaconda/envs/py3k/lib/python3.4/site-packages/setuptools-18.5-py3.4.egg', '/Users/dimitrismylonas/anaconda/envs/py3k/lib/python3.4/site-packages', '/Users/dimitrismylonas/anaconda/envs/py3k/lib/python3.4/site-packages/aeosa', '/Users/dimitrismylonas/anaconda/envs/py3k/lib/python3.4/site-packages/IPython/extensions', '/Users/dimitrismylonas/.ipython']\n"
     ]
    }
   ],
   "source": [
    "# Print all our system paths\n",
    "print(sys.path)"
   ]
  },
  {
   "cell_type": "code",
   "execution_count": 4,
   "metadata": {
    "collapsed": false
   },
   "outputs": [
    {
     "name": "stdout",
     "output_type": "stream",
     "text": [
      "/Users/dimitrismylonas/anaconda/envs/py3k/lib/python3.4/plat-darwin\n"
     ]
    }
   ],
   "source": [
    "#Pick one directory and print\n",
    "python_path = sys.path[3]\n",
    "print(python_path)"
   ]
  },
  {
   "cell_type": "code",
   "execution_count": 7,
   "metadata": {
    "collapsed": false
   },
   "outputs": [
    {
     "name": "stdout",
     "output_type": "stream",
     "text": [
      "['__pycache__', 'IN.py', 'regen']\n"
     ]
    }
   ],
   "source": [
    "#Print a portion of the files present in this directory\n",
    "print(os.listdir(python_path)[0:40])"
   ]
  },
  {
   "cell_type": "code",
   "execution_count": 8,
   "metadata": {
    "collapsed": false
   },
   "outputs": [
    {
     "name": "stdout",
     "output_type": "stream",
     "text": [
      "/Users/dimitrismylonas/Dropbox/PythonPublic/2016-April/day2\n"
     ]
    }
   ],
   "source": [
    "# Print the current working directory\n",
    "print(os.getcwd())"
   ]
  },
  {
   "cell_type": "markdown",
   "metadata": {},
   "source": [
    "# Creating a new file using the iPython editor\n",
    "\n",
    "1. Navigate back to the iPython home screen\n",
    "2. Select \"New\" on the top right and create a new textfile\n",
    "3. Name file as greeter.py\n",
    "4. Now edit the textfile and add the following two functions:\n"
   ]
  },
  {
   "cell_type": "code",
   "execution_count": 9,
   "metadata": {
    "collapsed": false
   },
   "outputs": [
    {
     "name": "stdout",
     "output_type": "stream",
     "text": [
      "['.DS_Store', '.ipynb_checkpoints', 'cmd_live.ipynb', 'file-io-live.ipynb', 'greeter.py', 'gutenberg.py', 'python_assignment_2.ipynb']\n"
     ]
    }
   ],
   "source": [
    "# Check whether our function has been saved in our working dir \n",
    "print(os.listdir(os.getcwd()))"
   ]
  },
  {
   "cell_type": "code",
   "execution_count": 12,
   "metadata": {
    "collapsed": false
   },
   "outputs": [
    {
     "name": "stdout",
     "output_type": "stream",
     "text": [
      "Hello Niko!\n",
      "Hello course!\n"
     ]
    }
   ],
   "source": [
    "# Import our new greeter file and use it as a module\n",
    "import greeter\n",
    "greeter.greet_person('Niko')\n",
    "greeter.greet_course()"
   ]
  },
  {
   "cell_type": "markdown",
   "metadata": {
    "collapsed": true
   },
   "source": [
    "# First command line tool - a book downloader\n",
    "\n",
    "1. Go back to your iPyhton notebook home\n",
    "2. Create a new file called gutenberg.py\n",
    "3. Copy and save the following code:"
   ]
  },
  {
   "cell_type": "code",
   "execution_count": null,
   "metadata": {
    "collapsed": false
   },
   "outputs": [],
   "source": [
    "# A tiny downloader for files in the Project Gutenberg for Python 3\n",
    "\n",
    "import sys\n",
    "from urllib import urlopen\n",
    "\n",
    "def download(url, bookname):\n",
    "    '''\n",
    "    Takes a valid URL and downloads the content.\n",
    "    Then creates a new file in the same folder using the\n",
    "    provided bookname.\n",
    "    '''\n",
    "\n",
    "    print(\"Downloading %s\" %url)\n",
    "    book = urlopen(url).read()\n",
    "    with open(bookname, \"wb\") as outfile:\n",
    "        outfile.write(book)\n",
    "    print(\"Writting file %s\" %bookname)\n",
    "    print(\"Done!\")\n",
    "    \n",
    "# Add command line functionality    \n",
    "def main():\n",
    "    print('All command line argument: ',sys.argv)\n",
    "    if len(sys.argv) == 3:\n",
    "        url = sys.argv[1]\n",
    "        bookname = sys.argv[2]\n",
    "        download(url,bookname)\n",
    "    else:\n",
    "        print('Supply url and bookname')\n",
    "\n",
    "if __name__ == \"__main__\":\n",
    "    main()"
   ]
  },
  {
   "cell_type": "markdown",
   "metadata": {},
   "source": [
    "# Open your command line\n",
    "Windows:\n",
    "\n",
    "    Go to Start and search for \"cmd\"\n",
    "    In the command promp use the following commands:\n",
    "\n",
    "    dir - list folders\n",
    "    cd - moves between folders\n",
    "    rename - rename a file\n",
    "\n",
    "OSX/Linux:\n",
    "\n",
    "    Open a Terminal window\n",
    "    In the terminal use the follwing commands\n",
    "\n",
    "    ls - list files and folders\n",
    "    cd - move between folders\n",
    "    mv - rename a file\n",
    "    \n",
    "Navigate to the current working directory where we saved our book downloader and type:\n",
    "\n",
    "python3 gutenberg.py http://www.gutenberg.org/cache/epub/28885/pg28885.txt AliceInWonderland.txt\n",
    "\n",
    "Mac:\n",
    "ls\n",
    "Win:\n",
    "dir"
   ]
  },
  {
   "cell_type": "code",
   "execution_count": 13,
   "metadata": {
    "collapsed": false
   },
   "outputs": [
    {
     "data": {
      "text/plain": [
       "True"
      ]
     },
     "execution_count": 13,
     "metadata": {},
     "output_type": "execute_result"
    }
   ],
   "source": [
    "# Check whether our ebook has been saved in our working directory\n",
    "os.path.isfile('AliceInWonderland.txt')"
   ]
  },
  {
   "cell_type": "code",
   "execution_count": 14,
   "metadata": {
    "collapsed": true
   },
   "outputs": [],
   "source": [
    "import gutenbergIPY"
   ]
  },
  {
   "cell_type": "code",
   "execution_count": 15,
   "metadata": {
    "collapsed": true
   },
   "outputs": [],
   "source": [
    "URL = 'http://www.gutenberg.org/cache/epub/28885/pg28885.txt'"
   ]
  },
  {
   "cell_type": "code",
   "execution_count": 19,
   "metadata": {
    "collapsed": false
   },
   "outputs": [
    {
     "name": "stdout",
     "output_type": "stream",
     "text": [
      "Downloading http://www.gutenberg.org/cache/epub/28885/pg28885.txt\n",
      "Writting file AliceYeah.txt\n",
      "Done!\n"
     ]
    }
   ],
   "source": [
    "gutenbergIPY.download(URL,'AliceYeah.txt')"
   ]
  },
  {
   "cell_type": "markdown",
   "metadata": {
    "collapsed": true
   },
   "source": [
    "# Questions?"
   ]
  },
  {
   "cell_type": "code",
   "execution_count": 20,
   "metadata": {
    "collapsed": true
   },
   "outputs": [],
   "source": [
    "def hasSublist(l):\n",
    "    return any(type(x) == type([]) for x in l)"
   ]
  },
  {
   "cell_type": "code",
   "execution_count": 22,
   "metadata": {
    "collapsed": false
   },
   "outputs": [
    {
     "data": {
      "text/plain": [
       "True"
      ]
     },
     "execution_count": 22,
     "metadata": {},
     "output_type": "execute_result"
    }
   ],
   "source": [
    "hasSublist([\"a\", \"b\",[\"c\"]])"
   ]
  },
  {
   "cell_type": "code",
   "execution_count": null,
   "metadata": {
    "collapsed": true
   },
   "outputs": [],
   "source": []
  }
 ],
 "metadata": {
  "kernelspec": {
   "display_name": "Python [Root]",
   "language": "python",
   "name": "Python [Root]"
  },
  "language_info": {
   "codemirror_mode": {
    "name": "ipython",
    "version": 2
   },
   "file_extension": ".py",
   "mimetype": "text/x-python",
   "name": "python",
   "nbconvert_exporter": "python",
   "pygments_lexer": "ipython2",
   "version": "2.7.12"
  }
 },
 "nbformat": 4,
 "nbformat_minor": 0
}
